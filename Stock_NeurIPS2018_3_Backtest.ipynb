{
  "cells": [
    {
      "cell_type": "markdown",
      "metadata": {
        "id": "v7Cycmf3Zbok"
      },
      "source": [
        "# Stock NeurIPS2018 Part 3. Backtest\n",
        "This series is a reproduction of paper *the process in the paper Practical Deep Reinforcement Learning Approach for Stock Trading*. \n",
        "\n",
        "This is the third and last part of the NeurIPS2018 series, introducing how to use use the agents we trained to do backtest, and compare with baselines such as Mean Variance Optimization and DJIA index.\n",
        "\n",
        "Other demos can be found at the repo of [FinRL-Tutorials]((https://github.com/AI4Finance-Foundation/FinRL-Tutorials))."
      ]
    },
    {
      "cell_type": "markdown",
      "metadata": {
        "id": "1oWbj4HgqHBg"
      },
      "source": [
        "# Part 1. Install Packages"
      ]
    },
    {
      "cell_type": "code",
      "execution_count": 30,
      "metadata": {
        "id": "QJgoEYx3p_NG"
      },
      "outputs": [],
      "source": [
        "## install finrl library\n",
        "# !pip install git+https://github.com/AI4Finance-Foundation/FinRL.git"
      ]
    },
    {
      "cell_type": "code",
      "execution_count": 31,
      "metadata": {
        "id": "mqfBOKz-qJYF"
      },
      "outputs": [],
      "source": [
        "import matplotlib.pyplot as plt\n",
        "import numpy as np\n",
        "import pandas as pd\n",
        "from stable_baselines3 import A2C, DDPG, PPO, SAC, TD3\n",
        "\n",
        "from finrl.agents.stablebaselines3.models import DRLAgent\n",
        "from finrl.config import INDICATORS, TRAINED_MODEL_DIR\n",
        "from finrl.meta.env_stock_trading.env_stocktrading import StockTradingEnv\n",
        "from finrl.meta.preprocessor.yahoodownloader import YahooDownloader\n",
        "\n",
        "%matplotlib inline"
      ]
    },
    {
      "cell_type": "markdown",
      "metadata": {
        "id": "mUF2P4hmqVjh"
      },
      "source": [
        "# Part 2. Backtesting"
      ]
    },
    {
      "cell_type": "markdown",
      "metadata": {
        "id": "BdU6qLsVWDxI"
      },
      "source": [
        "To backtest the agents, upload trade_data.csv in the same directory of this notebook. For Colab users, just upload trade_data.csv to the default directory."
      ]
    },
    {
      "cell_type": "code",
      "execution_count": 32,
      "metadata": {
        "id": "mSjBHn_MZr4U"
      },
      "outputs": [],
      "source": [
        "train = pd.read_csv('train_data.csv')\n",
        "trade = pd.read_csv('trade_data.csv')\n",
        "\n",
        "# If you are not using the data generated from part 1 of this tutorial, make sure \n",
        "# it has the columns and index in the form that could be make into the environment. \n",
        "# Then you can comment and skip the following lines.\n",
        "train = train.set_index(train.columns[0])\n",
        "train.index.names = ['']\n",
        "trade = trade.set_index(trade.columns[0])\n",
        "trade.index.names = ['']"
      ]
    },
    {
      "cell_type": "markdown",
      "metadata": {
        "id": "qu4Ey54b36oL"
      },
      "source": [
        "Then, upload the trained agent to the same directory, and set the corresponding variable to True."
      ]
    },
    {
      "cell_type": "code",
      "execution_count": 33,
      "metadata": {
        "id": "Z_mVZM4IIa55"
      },
      "outputs": [],
      "source": [
        "if_using_a2c = False\n",
        "if_using_ddpg = True\n",
        "if_using_ppo = False\n",
        "if_using_td3 = False\n",
        "if_using_sac = False"
      ]
    },
    {
      "cell_type": "markdown",
      "metadata": {
        "id": "73D4oRqAIkYj"
      },
      "source": [
        "Load the agents"
      ]
    },
    {
      "cell_type": "code",
      "execution_count": 34,
      "metadata": {
        "id": "6CagrX0I36ZN"
      },
      "outputs": [],
      "source": [
        "trained_a2c = A2C.load(TRAINED_MODEL_DIR + \"/agent_a2c\") if if_using_a2c else None\n",
        "trained_ddpg = DDPG.load(TRAINED_MODEL_DIR + \"/agent_ddpg\") if if_using_ddpg else None\n",
        "trained_ppo = PPO.load(TRAINED_MODEL_DIR + \"/agent_ppo\") if if_using_ppo else None\n",
        "trained_td3 = TD3.load(TRAINED_MODEL_DIR + \"/agent_td3\") if if_using_td3 else None\n",
        "trained_sac = SAC.load(TRAINED_MODEL_DIR + \"/agent_sac\") if if_using_sac else None"
      ]
    },
    {
      "cell_type": "markdown",
      "metadata": {
        "id": "U5mmgQF_h1jQ"
      },
      "source": [
        "### Trading (Out-of-sample Performance)\n",
        "\n",
        "We update periodically in order to take full advantage of the data, e.g., retrain quarterly, monthly or weekly. We also tune the parameters along the way, in this notebook we use the in-sample data from 2009-01 to 2020-07 to tune the parameters once, so there is some alpha decay here as the length of trade date extends. \n",
        "\n",
        "Numerous hyperparameters – e.g. the learning rate, the total number of samples to train on – influence the learning process and are usually determined by testing some variations."
      ]
    },
    {
      "cell_type": "code",
      "execution_count": 35,
      "metadata": {
        "colab": {
          "base_uri": "https://localhost:8080/"
        },
        "id": "4H_w3SaBAkKU",
        "outputId": "fdaed3a7-d3a9-4cde-d194-ee4576057175"
      },
      "outputs": [
        {
          "name": "stdout",
          "output_type": "stream",
          "text": [
            "Stock Dimension: 1, State Space: 11\n"
          ]
        }
      ],
      "source": [
        "stock_dimension = len(trade.tic.unique())\n",
        "state_space = 1 + 2 * stock_dimension + len(INDICATORS) * stock_dimension\n",
        "print(f\"Stock Dimension: {stock_dimension}, State Space: {state_space}\")"
      ]
    },
    {
      "cell_type": "code",
      "execution_count": 36,
      "metadata": {
        "id": "nKNmQMqGAknW"
      },
      "outputs": [],
      "source": [
        "buy_cost_list = sell_cost_list = [0.001] * stock_dimension\n",
        "num_stock_shares = [0] * stock_dimension\n",
        "\n",
        "env_kwargs = {\n",
        "    \"hmax\": 100,\n",
        "    \"initial_amount\": 1000000,\n",
        "    \"num_stock_shares\": num_stock_shares,\n",
        "    \"buy_cost_pct\": buy_cost_list,\n",
        "    \"sell_cost_pct\": sell_cost_list,\n",
        "    \"state_space\": state_space,\n",
        "    \"stock_dim\": stock_dimension,\n",
        "    \"tech_indicator_list\": INDICATORS,\n",
        "    \"action_space\": stock_dimension,\n",
        "    \"reward_scaling\": 1e-4\n",
        "}"
      ]
    },
    {
      "cell_type": "code",
      "execution_count": 37,
      "metadata": {
        "id": "cIqoV0GSI52v"
      },
      "outputs": [],
      "source": [
        "e_trade_gym = StockTradingEnv(df = trade, turbulence_threshold = 70,risk_indicator_col='vix', **env_kwargs)\n",
        "# env_trade, obs_trade = e_trade_gym.get_sb_env()"
      ]
    },
    {
      "cell_type": "code",
      "execution_count": 38,
      "metadata": {
        "colab": {
          "base_uri": "https://localhost:8080/"
        },
        "id": "lbFchno5j3xs",
        "outputId": "44fffa47-3b47-4e7b-96c2-0a485e9efead"
      },
      "outputs": [],
      "source": [
        "df_account_value_a2c, df_actions_a2c = DRLAgent.DRL_prediction(\n",
        "    model=trained_a2c, \n",
        "    environment = e_trade_gym) if if_using_a2c else (None, None)"
      ]
    },
    {
      "cell_type": "code",
      "execution_count": 39,
      "metadata": {
        "id": "JbYljWGjj3pH"
      },
      "outputs": [
        {
          "name": "stdout",
          "output_type": "stream",
          "text": [
            "hit end!\n"
          ]
        }
      ],
      "source": [
        "df_account_value_ddpg, df_actions_ddpg = DRLAgent.DRL_prediction(\n",
        "    model=trained_ddpg, \n",
        "    environment = e_trade_gym) if if_using_ddpg else (None, None)"
      ]
    },
    {
      "cell_type": "code",
      "execution_count": 40,
      "metadata": {
        "id": "74jNP2DBj3hb"
      },
      "outputs": [],
      "source": [
        "df_account_value_ppo, df_actions_ppo = DRLAgent.DRL_prediction(\n",
        "    model=trained_ppo, \n",
        "    environment = e_trade_gym) if if_using_ppo else (None, None)"
      ]
    },
    {
      "cell_type": "code",
      "execution_count": 41,
      "metadata": {
        "id": "S7VyGGJPj3SH"
      },
      "outputs": [],
      "source": [
        "df_account_value_td3, df_actions_td3 = DRLAgent.DRL_prediction(\n",
        "    model=trained_td3, \n",
        "    environment = e_trade_gym) if if_using_td3 else (None, None)"
      ]
    },
    {
      "cell_type": "code",
      "execution_count": 42,
      "metadata": {
        "colab": {
          "base_uri": "https://localhost:8080/"
        },
        "id": "eLOnL5eYh1jR",
        "outputId": "70e50e24-aed5-49f9-cdd7-de6b9689d9ce"
      },
      "outputs": [],
      "source": [
        "df_account_value_sac, df_actions_sac = DRLAgent.DRL_prediction(\n",
        "    model=trained_sac, \n",
        "    environment = e_trade_gym) if if_using_sac else (None, None)"
      ]
    },
    {
      "cell_type": "markdown",
      "metadata": {
        "id": "GcE-t08w6DaW"
      },
      "source": [
        "# Part 3: Mean Variance Optimization"
      ]
    },
    {
      "cell_type": "markdown",
      "metadata": {
        "id": "17TUs71EWj09"
      },
      "source": [
        "Mean Variance optimization is a very classic strategy in portfolio management. Here, we go through the whole process to do the mean variance optimization and add it as a baseline to compare.\n",
        "\n",
        "First, process dataframe to the form for MVO weight calculation."
      ]
    },
    {
      "cell_type": "code",
      "execution_count": 43,
      "metadata": {
        "id": "wungSNOwPwKR"
      },
      "outputs": [],
      "source": [
        "def process_df_for_mvo(df):\n",
        "  return df.pivot(index=\"date\", columns=\"tic\", values=\"close\")"
      ]
    },
    {
      "cell_type": "markdown",
      "metadata": {
        "id": "SwEwkHJ1d_6u"
      },
      "source": [
        "### Helper functions for mean returns and variance-covariance matrix"
      ]
    },
    {
      "cell_type": "code",
      "execution_count": 44,
      "metadata": {
        "id": "6KvXkpyE8MFq"
      },
      "outputs": [],
      "source": [
        "# Codes in this section partially refer to Dr G A Vijayalakshmi Pai\n",
        "\n",
        "# https://www.kaggle.com/code/vijipai/lesson-5-mean-variance-optimization-of-portfolios/notebook\n",
        "\n",
        "def StockReturnsComputing(StockPrice, Rows, Columns): \n",
        "  import numpy as np \n",
        "  StockReturn = np.zeros([Rows-1, Columns]) \n",
        "  for j in range(Columns):        # j: Assets \n",
        "    for i in range(Rows-1):     # i: Daily Prices \n",
        "      StockReturn[i,j]=((StockPrice[i+1, j]-StockPrice[i,j])/StockPrice[i,j])* 100 \n",
        "      \n",
        "  return StockReturn"
      ]
    },
    {
      "cell_type": "markdown",
      "metadata": {
        "id": "IeVVbuwveJ_5"
      },
      "source": [
        "### Calculate the weights for mean-variance"
      ]
    },
    {
      "cell_type": "code",
      "execution_count": 45,
      "metadata": {
        "colab": {
          "base_uri": "https://localhost:8080/"
        },
        "id": "kE8nruKLQYLO",
        "outputId": "42d07c80-f309-49f8-f2b4-36a51987086f"
      },
      "outputs": [
        {
          "data": {
            "text/plain": [
              "array([[72600.],\n",
              "       [72300.],\n",
              "       [67500.],\n",
              "       [69800.],\n",
              "       [70000.],\n",
              "       [70000.],\n",
              "       [69900.],\n",
              "       [69500.],\n",
              "       [69500.],\n",
              "       [69600.],\n",
              "       [68000.],\n",
              "       [68800.],\n",
              "       [68200.],\n",
              "       [68500.],\n",
              "       [66500.],\n",
              "       [67300.],\n",
              "       [66100.],\n",
              "       [66500.],\n",
              "       [67000.],\n",
              "       [64000.],\n",
              "       [64700.],\n",
              "       [66600.],\n",
              "       [66000.],\n",
              "       [66400.],\n",
              "       [65400.],\n",
              "       [64600.],\n",
              "       [65300.],\n",
              "       [64800.],\n",
              "       [65800.],\n",
              "       [66200.],\n",
              "       [66400.],\n",
              "       [65900.],\n",
              "       [67300.],\n",
              "       [68100.],\n",
              "       [67900.],\n",
              "       [66000.],\n",
              "       [65000.],\n",
              "       [64900.],\n",
              "       [65900.],\n",
              "       [65000.],\n",
              "       [63600.],\n",
              "       [63600.],\n",
              "       [63700.],\n",
              "       [63300.],\n",
              "       [62500.],\n",
              "       [62900.],\n",
              "       [64400.],\n",
              "       [64000.],\n",
              "       [64100.],\n",
              "       [63400.],\n",
              "       [63900.],\n",
              "       [62500.],\n",
              "       [62900.],\n",
              "       [63900.],\n",
              "       [63100.],\n",
              "       [63300.],\n",
              "       [62600.],\n",
              "       [62000.],\n",
              "       [61000.],\n",
              "       [57500.],\n",
              "       [54600.],\n",
              "       [55000.],\n",
              "       [55500.],\n",
              "       [57000.],\n",
              "       [60000.],\n",
              "       [60100.],\n",
              "       [60200.],\n",
              "       [60200.],\n",
              "       [60000.],\n",
              "       [60000.],\n",
              "       [60400.],\n",
              "       [59700.],\n",
              "       [56000.],\n",
              "       [58400.],\n",
              "       [58500.],\n",
              "       [58600.],\n",
              "       [56800.],\n",
              "       [56500.],\n",
              "       [56100.],\n",
              "       [54800.],\n",
              "       [55000.],\n",
              "       [55700.],\n",
              "       [55400.],\n",
              "       [55400.],\n",
              "       [55400.],\n",
              "       [55100.],\n",
              "       [54300.],\n",
              "       [53400.],\n",
              "       [53300.],\n",
              "       [53700.],\n",
              "       [53000.],\n",
              "       [54300.],\n",
              "       [55000.],\n",
              "       [57000.],\n",
              "       [60400.],\n",
              "       [64600.],\n",
              "       [65600.],\n",
              "       [64000.],\n",
              "       [61000.],\n",
              "       [59700.],\n",
              "       [65000.],\n",
              "       [65000.],\n",
              "       [69400.],\n",
              "       [69600.],\n",
              "       [66000.],\n",
              "       [68800.],\n",
              "       [68100.],\n",
              "       [66600.],\n",
              "       [71200.],\n",
              "       [69900.],\n",
              "       [67800.],\n",
              "       [63100.],\n",
              "       [61600.],\n",
              "       [60800.],\n",
              "       [60600.],\n",
              "       [58400.],\n",
              "       [56500.],\n",
              "       [55900.],\n",
              "       [54900.],\n",
              "       [55000.],\n",
              "       [55100.],\n",
              "       [53400.],\n",
              "       [53500.],\n",
              "       [53600.],\n",
              "       [53800.],\n",
              "       [56800.],\n",
              "       [56000.],\n",
              "       [56200.],\n",
              "       [56100.],\n",
              "       [55000.],\n",
              "       [54500.],\n",
              "       [55100.],\n",
              "       [55000.],\n",
              "       [55000.],\n",
              "       [55200.],\n",
              "       [56700.],\n",
              "       [57400.],\n",
              "       [59200.],\n",
              "       [57700.],\n",
              "       [57100.],\n",
              "       [55200.],\n",
              "       [55800.],\n",
              "       [56000.],\n",
              "       [56000.],\n",
              "       [55000.],\n",
              "       [54400.],\n",
              "       [54200.],\n",
              "       [54000.],\n",
              "       [53400.],\n",
              "       [52900.],\n",
              "       [52900.],\n",
              "       [53400.],\n",
              "       [53500.],\n",
              "       [54300.],\n",
              "       [53000.],\n",
              "       [53000.],\n",
              "       [52900.],\n",
              "       [52500.],\n",
              "       [52600.],\n",
              "       [52700.],\n",
              "       [52800.],\n",
              "       [52700.],\n",
              "       [52600.],\n",
              "       [52700.],\n",
              "       [53000.],\n",
              "       [53000.],\n",
              "       [53100.],\n",
              "       [53300.],\n",
              "       [53000.],\n",
              "       [54000.],\n",
              "       [53300.],\n",
              "       [53200.],\n",
              "       [52800.],\n",
              "       [52800.],\n",
              "       [52800.],\n",
              "       [52800.],\n",
              "       [53300.],\n",
              "       [53300.],\n",
              "       [53400.],\n",
              "       [53500.],\n",
              "       [53700.],\n",
              "       [55000.],\n",
              "       [58000.],\n",
              "       [56800.],\n",
              "       [55500.],\n",
              "       [54500.],\n",
              "       [53800.],\n",
              "       [53600.],\n",
              "       [53100.],\n",
              "       [53000.],\n",
              "       [52900.],\n",
              "       [52900.],\n",
              "       [52800.],\n",
              "       [52600.],\n",
              "       [52600.],\n",
              "       [52700.],\n",
              "       [52600.],\n",
              "       [52500.],\n",
              "       [51900.],\n",
              "       [50500.],\n",
              "       [52100.],\n",
              "       [51300.],\n",
              "       [50700.],\n",
              "       [50900.],\n",
              "       [50600.],\n",
              "       [50600.],\n",
              "       [50500.],\n",
              "       [51700.],\n",
              "       [54400.],\n",
              "       [52900.],\n",
              "       [53200.],\n",
              "       [53200.],\n",
              "       [52500.],\n",
              "       [52100.],\n",
              "       [52600.],\n",
              "       [52600.],\n",
              "       [52600.],\n",
              "       [52000.],\n",
              "       [52400.],\n",
              "       [52000.],\n",
              "       [52000.],\n",
              "       [52000.],\n",
              "       [52100.],\n",
              "       [53200.],\n",
              "       [52800.],\n",
              "       [52400.],\n",
              "       [52300.],\n",
              "       [53400.],\n",
              "       [54100.],\n",
              "       [53800.],\n",
              "       [53500.],\n",
              "       [53500.],\n",
              "       [52000.],\n",
              "       [52400.],\n",
              "       [52400.],\n",
              "       [52000.],\n",
              "       [52200.],\n",
              "       [52400.],\n",
              "       [52200.],\n",
              "       [51800.],\n",
              "       [51000.],\n",
              "       [51100.],\n",
              "       [51000.],\n",
              "       [50400.],\n",
              "       [50100.],\n",
              "       [50900.],\n",
              "       [50800.],\n",
              "       [51400.],\n",
              "       [51500.],\n",
              "       [51400.],\n",
              "       [52900.],\n",
              "       [52700.],\n",
              "       [52100.],\n",
              "       [52000.],\n",
              "       [52100.],\n",
              "       [52000.],\n",
              "       [51500.],\n",
              "       [51000.],\n",
              "       [51100.],\n",
              "       [51500.],\n",
              "       [55100.],\n",
              "       [58900.],\n",
              "       [58300.],\n",
              "       [58200.],\n",
              "       [62200.],\n",
              "       [63900.],\n",
              "       [67000.],\n",
              "       [65800.],\n",
              "       [67900.],\n",
              "       [72600.],\n",
              "       [73300.],\n",
              "       [70700.],\n",
              "       [75600.],\n",
              "       [71900.],\n",
              "       [66900.],\n",
              "       [65800.],\n",
              "       [64500.],\n",
              "       [65000.],\n",
              "       [64200.],\n",
              "       [63500.],\n",
              "       [64700.],\n",
              "       [63400.],\n",
              "       [62000.],\n",
              "       [62100.],\n",
              "       [62300.],\n",
              "       [61600.],\n",
              "       [60800.],\n",
              "       [59100.],\n",
              "       [59100.],\n",
              "       [60300.],\n",
              "       [59200.],\n",
              "       [55500.],\n",
              "       [53600.],\n",
              "       [53000.],\n",
              "       [51700.],\n",
              "       [53500.],\n",
              "       [52200.],\n",
              "       [50000.],\n",
              "       [46500.],\n",
              "       [45000.],\n",
              "       [45200.],\n",
              "       [45000.],\n",
              "       [46850.],\n",
              "       [46900.],\n",
              "       [44500.],\n",
              "       [46100.],\n",
              "       [45600.],\n",
              "       [45950.],\n",
              "       [45200.],\n",
              "       [44900.],\n",
              "       [45450.],\n",
              "       [46500.],\n",
              "       [46100.],\n",
              "       [45000.],\n",
              "       [44000.],\n",
              "       [43800.],\n",
              "       [43200.],\n",
              "       [43350.],\n",
              "       [43400.],\n",
              "       [43450.],\n",
              "       [44700.],\n",
              "       [41600.],\n",
              "       [41600.],\n",
              "       [41500.],\n",
              "       [40500.],\n",
              "       [40400.],\n",
              "       [41450.],\n",
              "       [41600.],\n",
              "       [42100.],\n",
              "       [42050.],\n",
              "       [43000.],\n",
              "       [45400.],\n",
              "       [44950.],\n",
              "       [44800.],\n",
              "       [44950.],\n",
              "       [45400.],\n",
              "       [45100.],\n",
              "       [42200.],\n",
              "       [42700.],\n",
              "       [42600.],\n",
              "       [42000.],\n",
              "       [41350.],\n",
              "       [41850.],\n",
              "       [42400.],\n",
              "       [42550.],\n",
              "       [41750.],\n",
              "       [42100.],\n",
              "       [42950.],\n",
              "       [42800.],\n",
              "       [42800.],\n",
              "       [42800.],\n",
              "       [42950.],\n",
              "       [44050.],\n",
              "       [44250.],\n",
              "       [43900.],\n",
              "       [43800.],\n",
              "       [43700.],\n",
              "       [43200.],\n",
              "       [43200.],\n",
              "       [43250.],\n",
              "       [43200.],\n",
              "       [43150.],\n",
              "       [43550.],\n",
              "       [43600.],\n",
              "       [44450.],\n",
              "       [44600.],\n",
              "       [44000.],\n",
              "       [44150.],\n",
              "       [44150.],\n",
              "       [44100.],\n",
              "       [44350.],\n",
              "       [43900.],\n",
              "       [43600.],\n",
              "       [43650.],\n",
              "       [43000.],\n",
              "       [43150.],\n",
              "       [43200.],\n",
              "       [43350.],\n",
              "       [43300.],\n",
              "       [43300.],\n",
              "       [43100.],\n",
              "       [43150.],\n",
              "       [42800.],\n",
              "       [42800.],\n",
              "       [42650.],\n",
              "       [42700.],\n",
              "       [42500.],\n",
              "       [42350.],\n",
              "       [42100.],\n",
              "       [42200.],\n",
              "       [42300.],\n",
              "       [42400.],\n",
              "       [42550.],\n",
              "       [43950.],\n",
              "       [48500.],\n",
              "       [47250.],\n",
              "       [47600.],\n",
              "       [45450.],\n",
              "       [44600.],\n",
              "       [45150.],\n",
              "       [45600.],\n",
              "       [45000.],\n",
              "       [45250.],\n",
              "       [45250.],\n",
              "       [45300.],\n",
              "       [45600.],\n",
              "       [45600.],\n",
              "       [44800.],\n",
              "       [44350.],\n",
              "       [44150.],\n",
              "       [45000.],\n",
              "       [45950.],\n",
              "       [44400.],\n",
              "       [46100.],\n",
              "       [47000.],\n",
              "       [46500.],\n",
              "       [46500.],\n",
              "       [46600.],\n",
              "       [46850.],\n",
              "       [47050.],\n",
              "       [47050.],\n",
              "       [47600.],\n",
              "       [47850.],\n",
              "       [47300.],\n",
              "       [47750.],\n",
              "       [47850.],\n",
              "       [47800.],\n",
              "       [44500.],\n",
              "       [47700.],\n",
              "       [48500.],\n",
              "       [49000.],\n",
              "       [48450.],\n",
              "       [47000.],\n",
              "       [46400.],\n",
              "       [45050.],\n",
              "       [42600.],\n",
              "       [42000.],\n",
              "       [41000.],\n",
              "       [41600.],\n",
              "       [41500.],\n",
              "       [44450.],\n",
              "       [44400.],\n",
              "       [44450.],\n",
              "       [44750.],\n",
              "       [45000.],\n",
              "       [45400.],\n",
              "       [45400.],\n",
              "       [45000.],\n",
              "       [45050.],\n",
              "       [46050.],\n",
              "       [46350.],\n",
              "       [46750.],\n",
              "       [46850.],\n",
              "       [46700.],\n",
              "       [46450.],\n",
              "       [47000.]])"
            ]
          },
          "execution_count": 45,
          "metadata": {},
          "output_type": "execute_result"
        }
      ],
      "source": [
        "StockData = process_df_for_mvo(train)\n",
        "TradeData = process_df_for_mvo(trade)\n",
        "\n",
        "TradeData.to_numpy()"
      ]
    },
    {
      "cell_type": "code",
      "execution_count": 46,
      "metadata": {
        "colab": {
          "base_uri": "https://localhost:8080/"
        },
        "id": "u6_O6vrn_uD4",
        "outputId": "0c2f8bf7-07e7-4fe5-c409-93312b95a8dd"
      },
      "outputs": [
        {
          "name": "stdout",
          "output_type": "stream",
          "text": [
            "Mean returns of assets in k-portfolio 1\n",
            " [0.07]\n",
            "Variance-Covariance matrix of returns\n",
            " 3.3545422240786964\n"
          ]
        }
      ],
      "source": [
        "#compute asset returns\n",
        "arStockPrices = np.asarray(StockData)\n",
        "[Rows, Cols]=arStockPrices.shape\n",
        "arReturns = StockReturnsComputing(arStockPrices, Rows, Cols)\n",
        "\n",
        "#compute mean returns and variance covariance matrix of returns\n",
        "meanReturns = np.mean(arReturns, axis = 0)\n",
        "covReturns = np.cov(arReturns, rowvar=False)\n",
        " \n",
        "#set precision for printing results\n",
        "np.set_printoptions(precision=3, suppress = True)\n",
        "\n",
        "#display mean returns and variance-covariance matrix of returns\n",
        "print('Mean returns of assets in k-portfolio 1\\n', meanReturns)\n",
        "print('Variance-Covariance matrix of returns\\n', covReturns)"
      ]
    },
    {
      "cell_type": "markdown",
      "metadata": {
        "id": "zC7r-cI8RR1X"
      },
      "source": [
        "### Use PyPortfolioOpt"
      ]
    },
    {
      "cell_type": "code",
      "execution_count": 18,
      "metadata": {},
      "outputs": [
        {
          "name": "stdout",
          "output_type": "stream",
          "text": [
            "Requirement already satisfied: PyPortfolioOpt in c:\\users\\pc\\miniconda3\\envs\\std\\lib\\site-packages (1.5.5)\n",
            "Requirement already satisfied: cvxpy<2.0.0,>=1.1.19 in c:\\users\\pc\\miniconda3\\envs\\std\\lib\\site-packages (from PyPortfolioOpt) (1.5.1)\n",
            "Requirement already satisfied: numpy<2.0.0,>=1.22.4 in c:\\users\\pc\\miniconda3\\envs\\std\\lib\\site-packages (from PyPortfolioOpt) (1.26.3)\n",
            "Requirement already satisfied: pandas>=0.19 in c:\\users\\pc\\miniconda3\\envs\\std\\lib\\site-packages (from PyPortfolioOpt) (2.2.0)\n",
            "Requirement already satisfied: scipy<2.0,>=1.3 in c:\\users\\pc\\miniconda3\\envs\\std\\lib\\site-packages (from PyPortfolioOpt) (1.11.4)\n",
            "Requirement already satisfied: osqp>=0.6.2 in c:\\users\\pc\\miniconda3\\envs\\std\\lib\\site-packages (from cvxpy<2.0.0,>=1.1.19->PyPortfolioOpt) (0.6.5)\n",
            "Requirement already satisfied: ecos>=2 in c:\\users\\pc\\miniconda3\\envs\\std\\lib\\site-packages (from cvxpy<2.0.0,>=1.1.19->PyPortfolioOpt) (2.0.13)\n",
            "Requirement already satisfied: clarabel>=0.5.0 in c:\\users\\pc\\miniconda3\\envs\\std\\lib\\site-packages (from cvxpy<2.0.0,>=1.1.19->PyPortfolioOpt) (0.7.1)\n",
            "Requirement already satisfied: scs>=3.2.4.post1 in c:\\users\\pc\\miniconda3\\envs\\std\\lib\\site-packages (from cvxpy<2.0.0,>=1.1.19->PyPortfolioOpt) (3.2.4.post1)\n",
            "Requirement already satisfied: python-dateutil>=2.8.2 in c:\\users\\pc\\miniconda3\\envs\\std\\lib\\site-packages (from pandas>=0.19->PyPortfolioOpt) (2.8.2)\n",
            "Requirement already satisfied: pytz>=2020.1 in c:\\users\\pc\\miniconda3\\envs\\std\\lib\\site-packages (from pandas>=0.19->PyPortfolioOpt) (2023.3.post1)\n",
            "Requirement already satisfied: tzdata>=2022.7 in c:\\users\\pc\\miniconda3\\envs\\std\\lib\\site-packages (from pandas>=0.19->PyPortfolioOpt) (2024.1)\n",
            "Requirement already satisfied: qdldl in c:\\users\\pc\\miniconda3\\envs\\std\\lib\\site-packages (from osqp>=0.6.2->cvxpy<2.0.0,>=1.1.19->PyPortfolioOpt) (0.1.7.post2)\n",
            "Requirement already satisfied: six>=1.5 in c:\\users\\pc\\miniconda3\\envs\\std\\lib\\site-packages (from python-dateutil>=2.8.2->pandas>=0.19->PyPortfolioOpt) (1.16.0)\n"
          ]
        }
      ],
      "source": [
        "!pip install PyPortfolioOpt"
      ]
    },
    {
      "cell_type": "code",
      "execution_count": 47,
      "metadata": {
        "colab": {
          "base_uri": "https://localhost:8080/"
        },
        "id": "b1btTONEdCU4",
        "outputId": "75096462-7dfb-4ce6-c6f4-4671f11e79fc"
      },
      "outputs": [
        {
          "ename": "ValueError",
          "evalue": "Covariance matrix does not match expected returns",
          "output_type": "error",
          "traceback": [
            "\u001b[1;31m---------------------------------------------------------------------------\u001b[0m",
            "\u001b[1;31mValueError\u001b[0m                                Traceback (most recent call last)",
            "Cell \u001b[1;32mIn[47], line 3\u001b[0m\n\u001b[0;32m      1\u001b[0m \u001b[38;5;28;01mfrom\u001b[39;00m \u001b[38;5;21;01mpypfopt\u001b[39;00m\u001b[38;5;21;01m.\u001b[39;00m\u001b[38;5;21;01mefficient_frontier\u001b[39;00m \u001b[38;5;28;01mimport\u001b[39;00m EfficientFrontier\n\u001b[1;32m----> 3\u001b[0m ef_mean \u001b[38;5;241m=\u001b[39m \u001b[43mEfficientFrontier\u001b[49m\u001b[43m(\u001b[49m\u001b[43mmeanReturns\u001b[49m\u001b[43m,\u001b[49m\u001b[43m \u001b[49m\u001b[43mcovReturns\u001b[49m\u001b[43m,\u001b[49m\u001b[43m \u001b[49m\u001b[43mweight_bounds\u001b[49m\u001b[38;5;241;43m=\u001b[39;49m\u001b[43m(\u001b[49m\u001b[38;5;241;43m0\u001b[39;49m\u001b[43m,\u001b[49m\u001b[43m \u001b[49m\u001b[38;5;241;43m0.5\u001b[39;49m\u001b[43m)\u001b[49m\u001b[43m)\u001b[49m\n\u001b[0;32m      4\u001b[0m raw_weights_mean \u001b[38;5;241m=\u001b[39m ef_mean\u001b[38;5;241m.\u001b[39mmax_sharpe()\n\u001b[0;32m      5\u001b[0m cleaned_weights_mean \u001b[38;5;241m=\u001b[39m ef_mean\u001b[38;5;241m.\u001b[39mclean_weights()\n",
            "File \u001b[1;32mc:\\Users\\PC\\miniconda3\\envs\\std\\lib\\site-packages\\pypfopt\\efficient_frontier\\efficient_frontier.py:105\u001b[0m, in \u001b[0;36mEfficientFrontier.__init__\u001b[1;34m(self, expected_returns, cov_matrix, weight_bounds, solver, verbose, solver_options)\u001b[0m\n\u001b[0;32m    103\u001b[0m \u001b[38;5;28;01mif\u001b[39;00m expected_returns \u001b[38;5;129;01mis\u001b[39;00m \u001b[38;5;129;01mnot\u001b[39;00m \u001b[38;5;28;01mNone\u001b[39;00m \u001b[38;5;129;01mand\u001b[39;00m cov_matrix \u001b[38;5;129;01mis\u001b[39;00m \u001b[38;5;129;01mnot\u001b[39;00m \u001b[38;5;28;01mNone\u001b[39;00m:\n\u001b[0;32m    104\u001b[0m     \u001b[38;5;28;01mif\u001b[39;00m cov_matrix\u001b[38;5;241m.\u001b[39mshape \u001b[38;5;241m!=\u001b[39m (num_assets, num_assets):\n\u001b[1;32m--> 105\u001b[0m         \u001b[38;5;28;01mraise\u001b[39;00m \u001b[38;5;167;01mValueError\u001b[39;00m(\u001b[38;5;124m\"\u001b[39m\u001b[38;5;124mCovariance matrix does not match expected returns\u001b[39m\u001b[38;5;124m\"\u001b[39m)\n\u001b[0;32m    107\u001b[0m \u001b[38;5;28msuper\u001b[39m()\u001b[38;5;241m.\u001b[39m\u001b[38;5;21m__init__\u001b[39m(\n\u001b[0;32m    108\u001b[0m     \u001b[38;5;28mlen\u001b[39m(tickers),\n\u001b[0;32m    109\u001b[0m     tickers,\n\u001b[1;32m   (...)\u001b[0m\n\u001b[0;32m    113\u001b[0m     solver_options\u001b[38;5;241m=\u001b[39msolver_options,\n\u001b[0;32m    114\u001b[0m )\n",
            "\u001b[1;31mValueError\u001b[0m: Covariance matrix does not match expected returns"
          ]
        }
      ],
      "source": [
        "from pypfopt.efficient_frontier import EfficientFrontier\n",
        "\n",
        "ef_mean = EfficientFrontier(meanReturns, covReturns, weight_bounds=(0, 0.5))\n",
        "raw_weights_mean = ef_mean.max_sharpe()\n",
        "cleaned_weights_mean = ef_mean.clean_weights()\n",
        "mvo_weights = np.array([1000000 * cleaned_weights_mean[i] for i in range(len(cleaned_weights_mean))])\n",
        "mvo_weights"
      ]
    },
    {
      "cell_type": "code",
      "execution_count": 48,
      "metadata": {
        "colab": {
          "base_uri": "https://localhost:8080/"
        },
        "id": "F38NJRJJgOmj",
        "outputId": "f575651b-1e9b-4015-ae71-c9fc2c3a3dae"
      },
      "outputs": [
        {
          "ename": "NameError",
          "evalue": "name 'mvo_weights' is not defined",
          "output_type": "error",
          "traceback": [
            "\u001b[1;31m---------------------------------------------------------------------------\u001b[0m",
            "\u001b[1;31mNameError\u001b[0m                                 Traceback (most recent call last)",
            "Cell \u001b[1;32mIn[48], line 2\u001b[0m\n\u001b[0;32m      1\u001b[0m LastPrice \u001b[38;5;241m=\u001b[39m np\u001b[38;5;241m.\u001b[39marray([\u001b[38;5;241m1\u001b[39m\u001b[38;5;241m/\u001b[39mp \u001b[38;5;28;01mfor\u001b[39;00m p \u001b[38;5;129;01min\u001b[39;00m StockData\u001b[38;5;241m.\u001b[39mtail(\u001b[38;5;241m1\u001b[39m)\u001b[38;5;241m.\u001b[39mto_numpy()[\u001b[38;5;241m0\u001b[39m]])\n\u001b[1;32m----> 2\u001b[0m Initial_Portfolio \u001b[38;5;241m=\u001b[39m np\u001b[38;5;241m.\u001b[39mmultiply(\u001b[43mmvo_weights\u001b[49m, LastPrice)\n\u001b[0;32m      3\u001b[0m Initial_Portfolio\n",
            "\u001b[1;31mNameError\u001b[0m: name 'mvo_weights' is not defined"
          ]
        }
      ],
      "source": [
        "LastPrice = np.array([1/p for p in StockData.tail(1).to_numpy()[0]])\n",
        "Initial_Portfolio = np.multiply(mvo_weights, LastPrice)\n",
        "Initial_Portfolio"
      ]
    },
    {
      "cell_type": "code",
      "execution_count": 49,
      "metadata": {
        "id": "ZAd1iXqZhQ6X"
      },
      "outputs": [
        {
          "ename": "NameError",
          "evalue": "name 'Initial_Portfolio' is not defined",
          "output_type": "error",
          "traceback": [
            "\u001b[1;31m---------------------------------------------------------------------------\u001b[0m",
            "\u001b[1;31mNameError\u001b[0m                                 Traceback (most recent call last)",
            "Cell \u001b[1;32mIn[49], line 1\u001b[0m\n\u001b[1;32m----> 1\u001b[0m Portfolio_Assets \u001b[38;5;241m=\u001b[39m TradeData \u001b[38;5;241m@\u001b[39m \u001b[43mInitial_Portfolio\u001b[49m\n\u001b[0;32m      2\u001b[0m MVO_result \u001b[38;5;241m=\u001b[39m pd\u001b[38;5;241m.\u001b[39mDataFrame(Portfolio_Assets, columns\u001b[38;5;241m=\u001b[39m[\u001b[38;5;124m\"\u001b[39m\u001b[38;5;124mMean Var\u001b[39m\u001b[38;5;124m\"\u001b[39m])\n\u001b[0;32m      3\u001b[0m MVO_result\n",
            "\u001b[1;31mNameError\u001b[0m: name 'Initial_Portfolio' is not defined"
          ]
        }
      ],
      "source": [
        "Portfolio_Assets = TradeData @ Initial_Portfolio\n",
        "MVO_result = pd.DataFrame(Portfolio_Assets, columns=[\"Mean Var\"])\n",
        "MVO_result"
      ]
    },
    {
      "cell_type": "markdown",
      "metadata": {
        "id": "I5sgGe7g1HsL"
      },
      "source": [
        "# Part 4: DJIA index"
      ]
    },
    {
      "cell_type": "markdown",
      "metadata": {
        "id": "sVe_ufxTY2CW"
      },
      "source": [
        "Add DJIA index as a baseline to compare with."
      ]
    },
    {
      "cell_type": "code",
      "execution_count": 25,
      "metadata": {
        "id": "sACPzsI-6k8q"
      },
      "outputs": [],
      "source": [
        "TRAIN_START_DATE = '2021-01-01'\n",
        "TRAIN_END_DATE = '2022-12-31'\n",
        "TRADE_START_DATE = '2023-01-01'\n",
        "TRADE_END_DATE = '2024-05-23'"
      ]
    },
    {
      "cell_type": "code",
      "execution_count": 26,
      "metadata": {
        "colab": {
          "base_uri": "https://localhost:8080/"
        },
        "id": "TuszW-OB1K0m",
        "outputId": "b89a8350-de58-4fea-8e4b-856efa872712"
      },
      "outputs": [
        {
          "name": "stderr",
          "output_type": "stream",
          "text": [
            "[*********************100%%**********************]  1 of 1 completed\n",
            "\n",
            "1 Failed download:\n",
            "['DJI']: Exception('%ticker%: No price data found, symbol may be delisted (1d 2023-01-01 -> 2024-05-23)')\n"
          ]
        },
        {
          "ename": "ValueError",
          "evalue": "no data is fetched.",
          "output_type": "error",
          "traceback": [
            "\u001b[1;31m---------------------------------------------------------------------------\u001b[0m",
            "\u001b[1;31mValueError\u001b[0m                                Traceback (most recent call last)",
            "Cell \u001b[1;32mIn[26], line 3\u001b[0m\n\u001b[0;32m      1\u001b[0m df_dji \u001b[38;5;241m=\u001b[39m \u001b[43mYahooDownloader\u001b[49m\u001b[43m(\u001b[49m\n\u001b[0;32m      2\u001b[0m \u001b[43m    \u001b[49m\u001b[43mstart_date\u001b[49m\u001b[38;5;241;43m=\u001b[39;49m\u001b[43mTRADE_START_DATE\u001b[49m\u001b[43m,\u001b[49m\u001b[43m \u001b[49m\u001b[43mend_date\u001b[49m\u001b[38;5;241;43m=\u001b[39;49m\u001b[43mTRADE_END_DATE\u001b[49m\u001b[43m,\u001b[49m\u001b[43m \u001b[49m\u001b[43mticker_list\u001b[49m\u001b[38;5;241;43m=\u001b[39;49m\u001b[43m[\u001b[49m\u001b[38;5;124;43m\"\u001b[39;49m\u001b[38;5;124;43mdji\u001b[39;49m\u001b[38;5;124;43m\"\u001b[39;49m\u001b[43m]\u001b[49m\n\u001b[1;32m----> 3\u001b[0m \u001b[43m)\u001b[49m\u001b[38;5;241;43m.\u001b[39;49m\u001b[43mfetch_data\u001b[49m\u001b[43m(\u001b[49m\u001b[43m)\u001b[49m\n",
            "File \u001b[1;32mm:\\CS106-FinalProject\\finrl\\meta\\preprocessor\\yahoodownloader.py:61\u001b[0m, in \u001b[0;36mYahooDownloader.fetch_data\u001b[1;34m(self, proxy)\u001b[0m\n\u001b[0;32m     59\u001b[0m         num_failures \u001b[38;5;241m+\u001b[39m\u001b[38;5;241m=\u001b[39m \u001b[38;5;241m1\u001b[39m\n\u001b[0;32m     60\u001b[0m \u001b[38;5;28;01mif\u001b[39;00m num_failures \u001b[38;5;241m==\u001b[39m \u001b[38;5;28mlen\u001b[39m(\u001b[38;5;28mself\u001b[39m\u001b[38;5;241m.\u001b[39mticker_list):\n\u001b[1;32m---> 61\u001b[0m     \u001b[38;5;28;01mraise\u001b[39;00m \u001b[38;5;167;01mValueError\u001b[39;00m(\u001b[38;5;124m\"\u001b[39m\u001b[38;5;124mno data is fetched.\u001b[39m\u001b[38;5;124m\"\u001b[39m)\n\u001b[0;32m     62\u001b[0m \u001b[38;5;66;03m# reset the index, we want to use numbers as index instead of dates\u001b[39;00m\n\u001b[0;32m     63\u001b[0m data_df \u001b[38;5;241m=\u001b[39m data_df\u001b[38;5;241m.\u001b[39mreset_index()\n",
            "\u001b[1;31mValueError\u001b[0m: no data is fetched."
          ]
        }
      ],
      "source": [
        "df_dji = YahooDownloader(\n",
        "    start_date=TRADE_START_DATE, end_date=TRADE_END_DATE, ticker_list=[\"dji\"]\n",
        ").fetch_data()"
      ]
    },
    {
      "cell_type": "code",
      "execution_count": 26,
      "metadata": {
        "id": "Q3RXz72U1VbV"
      },
      "outputs": [],
      "source": [
        "df_dji = df_dji[[\"date\", \"close\"]]\n",
        "fst_day = df_dji[\"close\"][0]\n",
        "dji = pd.merge(\n",
        "    df_dji[\"date\"],\n",
        "    df_dji[\"close\"].div(fst_day).mul(1000000),\n",
        "    how=\"outer\",\n",
        "    left_index=True,\n",
        "    right_index=True,\n",
        ").set_index(\"date\")"
      ]
    },
    {
      "cell_type": "markdown",
      "metadata": {
        "id": "W6vvNSC6h1jZ"
      },
      "source": [
        "<a id='4'></a>\n",
        "# Part 5: Backtesting Results\n",
        "Backtesting plays a key role in evaluating the performance of a trading strategy. Automated backtesting tool is preferred because it reduces the human error. We usually use the Quantopian pyfolio package to backtest our trading strategies. It is easy to use and consists of various individual plots that provide a comprehensive image of the performance of a trading strategy."
      ]
    },
    {
      "cell_type": "code",
      "execution_count": 50,
      "metadata": {
        "id": "KeDeGAc9VrEg"
      },
      "outputs": [],
      "source": [
        "df_result_a2c = (\n",
        "    df_account_value_a2c.set_index(df_account_value_a2c.columns[0])\n",
        "    if if_using_a2c\n",
        "    else None\n",
        ")\n",
        "df_result_ddpg = (\n",
        "    df_account_value_ddpg.set_index(df_account_value_ddpg.columns[0])\n",
        "    if if_using_ddpg\n",
        "    else None\n",
        ")\n",
        "df_result_ppo = (\n",
        "    df_account_value_ppo.set_index(df_account_value_ppo.columns[0])\n",
        "    if if_using_ppo\n",
        "    else None\n",
        ")\n",
        "df_result_td3 = (\n",
        "    df_account_value_td3.set_index(df_account_value_td3.columns[0])\n",
        "    if if_using_td3\n",
        "    else None\n",
        ")\n",
        "df_result_sac = (\n",
        "    df_account_value_sac.set_index(df_account_value_sac.columns[0])\n",
        "    if if_using_sac\n",
        "    else None\n",
        ")\n",
        "\n",
        "result = pd.DataFrame(\n",
        "    {\n",
        "        \"a2c\": df_result_a2c[\"account_value\"] if if_using_a2c else None,\n",
        "        \"ddpg\": df_result_ddpg[\"account_value\"] if if_using_ddpg else None,\n",
        "        \"ppo\": df_result_ppo[\"account_value\"] if if_using_ppo else None,\n",
        "        \"td3\": df_result_td3[\"account_value\"] if if_using_td3 else None,\n",
        "        \"sac\": df_result_sac[\"account_value\"] if if_using_sac else None\n",
        "        # \"mvo\": MVO_result[\"Mean Var\"],\n",
        "        # \"dji\": dji[\"close\"],\n",
        "    }\n",
        ")"
      ]
    },
    {
      "cell_type": "code",
      "execution_count": 51,
      "metadata": {
        "colab": {
          "base_uri": "https://localhost:8080/",
          "height": 455
        },
        "id": "l4FZxyDt3XaE",
        "outputId": "2e739637-bf88-4698-9cf1-9a526452e465"
      },
      "outputs": [
        {
          "data": {
            "text/html": [
              "<div>\n",
              "<style scoped>\n",
              "    .dataframe tbody tr th:only-of-type {\n",
              "        vertical-align: middle;\n",
              "    }\n",
              "\n",
              "    .dataframe tbody tr th {\n",
              "        vertical-align: top;\n",
              "    }\n",
              "\n",
              "    .dataframe thead th {\n",
              "        text-align: right;\n",
              "    }\n",
              "</style>\n",
              "<table border=\"1\" class=\"dataframe\">\n",
              "  <thead>\n",
              "    <tr style=\"text-align: right;\">\n",
              "      <th></th>\n",
              "      <th>a2c</th>\n",
              "      <th>ddpg</th>\n",
              "      <th>ppo</th>\n",
              "      <th>td3</th>\n",
              "      <th>sac</th>\n",
              "    </tr>\n",
              "    <tr>\n",
              "      <th>date</th>\n",
              "      <th></th>\n",
              "      <th></th>\n",
              "      <th></th>\n",
              "      <th></th>\n",
              "      <th></th>\n",
              "    </tr>\n",
              "  </thead>\n",
              "  <tbody>\n",
              "    <tr>\n",
              "      <th>2022-07-01</th>\n",
              "      <td>None</td>\n",
              "      <td>1000000.0</td>\n",
              "      <td>None</td>\n",
              "      <td>None</td>\n",
              "      <td>None</td>\n",
              "    </tr>\n",
              "    <tr>\n",
              "      <th>2022-07-05</th>\n",
              "      <td>None</td>\n",
              "      <td>1000000.0</td>\n",
              "      <td>None</td>\n",
              "      <td>None</td>\n",
              "      <td>None</td>\n",
              "    </tr>\n",
              "    <tr>\n",
              "      <th>2022-07-06</th>\n",
              "      <td>None</td>\n",
              "      <td>1000000.0</td>\n",
              "      <td>None</td>\n",
              "      <td>None</td>\n",
              "      <td>None</td>\n",
              "    </tr>\n",
              "    <tr>\n",
              "      <th>2022-07-07</th>\n",
              "      <td>None</td>\n",
              "      <td>1000000.0</td>\n",
              "      <td>None</td>\n",
              "      <td>None</td>\n",
              "      <td>None</td>\n",
              "    </tr>\n",
              "    <tr>\n",
              "      <th>2022-07-08</th>\n",
              "      <td>None</td>\n",
              "      <td>1000000.0</td>\n",
              "      <td>None</td>\n",
              "      <td>None</td>\n",
              "      <td>None</td>\n",
              "    </tr>\n",
              "    <tr>\n",
              "      <th>...</th>\n",
              "      <td>...</td>\n",
              "      <td>...</td>\n",
              "      <td>...</td>\n",
              "      <td>...</td>\n",
              "      <td>...</td>\n",
              "    </tr>\n",
              "    <tr>\n",
              "      <th>2024-05-16</th>\n",
              "      <td>None</td>\n",
              "      <td>1000000.0</td>\n",
              "      <td>None</td>\n",
              "      <td>None</td>\n",
              "      <td>None</td>\n",
              "    </tr>\n",
              "    <tr>\n",
              "      <th>2024-05-17</th>\n",
              "      <td>None</td>\n",
              "      <td>1000000.0</td>\n",
              "      <td>None</td>\n",
              "      <td>None</td>\n",
              "      <td>None</td>\n",
              "    </tr>\n",
              "    <tr>\n",
              "      <th>2024-05-20</th>\n",
              "      <td>None</td>\n",
              "      <td>1000000.0</td>\n",
              "      <td>None</td>\n",
              "      <td>None</td>\n",
              "      <td>None</td>\n",
              "    </tr>\n",
              "    <tr>\n",
              "      <th>2024-05-21</th>\n",
              "      <td>None</td>\n",
              "      <td>1000000.0</td>\n",
              "      <td>None</td>\n",
              "      <td>None</td>\n",
              "      <td>None</td>\n",
              "    </tr>\n",
              "    <tr>\n",
              "      <th>2024-05-22</th>\n",
              "      <td>None</td>\n",
              "      <td>1000000.0</td>\n",
              "      <td>None</td>\n",
              "      <td>None</td>\n",
              "      <td>None</td>\n",
              "    </tr>\n",
              "  </tbody>\n",
              "</table>\n",
              "<p>456 rows × 5 columns</p>\n",
              "</div>"
            ],
            "text/plain": [
              "             a2c       ddpg   ppo   td3   sac\n",
              "date                                         \n",
              "2022-07-01  None  1000000.0  None  None  None\n",
              "2022-07-05  None  1000000.0  None  None  None\n",
              "2022-07-06  None  1000000.0  None  None  None\n",
              "2022-07-07  None  1000000.0  None  None  None\n",
              "2022-07-08  None  1000000.0  None  None  None\n",
              "...          ...        ...   ...   ...   ...\n",
              "2024-05-16  None  1000000.0  None  None  None\n",
              "2024-05-17  None  1000000.0  None  None  None\n",
              "2024-05-20  None  1000000.0  None  None  None\n",
              "2024-05-21  None  1000000.0  None  None  None\n",
              "2024-05-22  None  1000000.0  None  None  None\n",
              "\n",
              "[456 rows x 5 columns]"
            ]
          },
          "execution_count": 51,
          "metadata": {},
          "output_type": "execute_result"
        }
      ],
      "source": [
        "result"
      ]
    },
    {
      "cell_type": "markdown",
      "metadata": {
        "id": "QQuc5hI9Yklt"
      },
      "source": [
        "Now, everything is ready, we can plot the backtest result."
      ]
    },
    {
      "cell_type": "code",
      "execution_count": 52,
      "metadata": {
        "colab": {
          "base_uri": "https://localhost:8080/",
          "height": 381
        },
        "id": "6xRfrqK4RVfq",
        "outputId": "469c9729-fd57-417c-9b13-2243426923e2"
      },
      "outputs": [
        {
          "data": {
            "text/plain": [
              "<Axes: xlabel='date'>"
            ]
          },
          "execution_count": 52,
          "metadata": {},
          "output_type": "execute_result"
        },
        {
          "data": {
            "text/plain": [
              "<Figure size 1500x500 with 0 Axes>"
            ]
          },
          "metadata": {},
          "output_type": "display_data"
        },
        {
          "data": {
            "image/png": "[encoded data removed]",
            "text/plain": [
              "<Figure size 1500x500 with 1 Axes>"
            ]
          },
          "metadata": {},
          "output_type": "display_data"
        }
      ],
      "source": [
        "plt.rcParams[\"figure.figsize\"] = (15,5)\n",
        "plt.figure()\n",
        "result.plot()"
      ]
    },
    {
      "cell_type": "code",
      "execution_count": null,
      "metadata": {},
      "outputs": [],
      "source": []
    }
  ],
  "metadata": {
    "colab": {
      "collapsed_sections": [
        "GfZ5vY5wRjkJ"
      ],
      "provenance": []
    },
    "kernelspec": {
      "display_name": "Python 3",
      "name": "python3"
    },
    "language_info": {
      "codemirror_mode": {
        "name": "ipython",
        "version": 3
      },
      "file_extension": ".py",
      "mimetype": "text/x-python",
      "name": "python",
      "nbconvert_exporter": "python",
      "pygments_lexer": "ipython3",
      "version": "3.10.13"
    }
  },
  "nbformat": 4,
  "nbformat_minor": 0
}
