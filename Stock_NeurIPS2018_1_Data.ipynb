{
  "cells": [
    {
      "cell_type": "markdown",
      "metadata": {
        "id": "Sy8r7_g5WjAT"
      },
      "source": [
        "# Stock NeurIPS2018 Part 1. Data\n",
        "This series is a reproduction of paper *the process in the paper Practical Deep Reinforcement Learning Approach for Stock Trading*. \n",
        "\n",
        "This is the first part of the NeurIPS2018 series, introducing how to use FinRL to fetch and process data that we need for ML/RL trading.\n",
        "\n",
        "Other demos can be found at the repo of [FinRL-Tutorials]((https://github.com/AI4Finance-Foundation/FinRL-Tutorials))."
      ]
    },
    {
      "cell_type": "markdown",
      "metadata": {
        "id": "2uH1KXctgnoJ"
      },
      "source": [
        "# Part 1. Install Packages"
      ]
    },
    {
      "cell_type": "code",
      "execution_count": 1,
      "metadata": {
        "id": "a2oD49e_N_05"
      },
      "outputs": [],
      "source": [
        "## install finrl library\n",
        "# !pip install git+https://github.com/AI4Finance-Foundation/FinRL.git"
      ]
    },
    {
      "cell_type": "code",
      "execution_count": 4,
      "metadata": {
        "id": "j37flV31OJGW"
      },
      "outputs": [],
      "source": [
        "import pandas as pd\n",
        "import numpy as np\n",
        "import datetime\n",
        "import yfinance as yf\n",
        "\n",
        "from finrl.meta.preprocessor.yahoodownloader import YahooDownloader\n",
        "from finrl.meta.preprocessor.preprocessors import FeatureEngineer, data_split\n",
        "from finrl import config_tickers\n",
        "from finrl.config import INDICATORS\n",
        "\n",
        "import itertools"
      ]
    },
    {
      "cell_type": "markdown",
      "metadata": {
        "id": "wxsN8i7tg07U"
      },
      "source": [
        "# Part 2. Fetch data"
      ]
    },
    {
      "cell_type": "markdown",
      "metadata": {
        "id": "fMNm9tCMXy8J"
      },
      "source": [
        "[yfinance](https://github.com/ranaroussi/yfinance) is an open-source library that provides APIs fetching historical data form Yahoo Finance. In FinRL, we have a class called [YahooDownloader](https://github.com/AI4Finance-Foundation/FinRL/blob/master/finrl/meta/preprocessor/yahoodownloader.py) that use yfinance to fetch data from Yahoo Finance."
      ]
    },
    {
      "cell_type": "markdown",
      "metadata": {
        "id": "CWVXUkzaZE8m"
      },
      "source": [
        "**OHLCV**: Data downloaded are in the form of OHLCV, corresponding to **open, high, low, close, volume,** respectively. OHLCV is important because they contain most of numerical information of a stock in time series. From OHLCV, traders can get further judgement and prediction like the momentum, people's interest, market trends, etc."
      ]
    },
    {
      "cell_type": "markdown",
      "metadata": {
        "id": "jRYlbdMpW9Np"
      },
      "source": [
        "## Data for a single ticker"
      ]
    },
    {
      "cell_type": "markdown",
      "metadata": {
        "id": "1wo6pCQYXDbz"
      },
      "source": [
        "Here we provide two ways to fetch data with single ticker, let's take Apple Inc. (AAPL) as an example."
      ]
    },
    {
      "cell_type": "markdown",
      "metadata": {
        "id": "yzVRe90WXLB1"
      },
      "source": [
        "### Using yfinance"
      ]
    },
    {
      "cell_type": "code",
      "execution_count": 3,
      "metadata": {
        "colab": {
          "base_uri": "https://localhost:8080/"
        },
        "id": "SSl6mVV7XNw6",
        "outputId": "460c06eb-c71d-4ebb-fe17-481295d70cff"
      },
      "outputs": [
        {
          "name": "stderr",
          "output_type": "stream",
          "text": [
            "[*********************100%%**********************]  1 of 1 completed\n"
          ]
        }
      ],
      "source": [
        "aapl_df_yf = yf.download(tickers = \"aapl\", start='2020-01-01', end='2020-01-31')"
      ]
    },
    {
      "cell_type": "code",
      "execution_count": 4,
      "metadata": {
        "colab": {
          "base_uri": "https://localhost:8080/",
          "height": 238
        },
        "id": "Rjutz22rXrpR",
        "outputId": "62aadc8c-b854-403d-ac73-6cf86d53fa22"
      },
      "outputs": [
        {
          "data": {
            "text/html": [
              "<div>\n",
              "<style scoped>\n",
              "    .dataframe tbody tr th:only-of-type {\n",
              "        vertical-align: middle;\n",
              "    }\n",
              "\n",
              "    .dataframe tbody tr th {\n",
              "        vertical-align: top;\n",
              "    }\n",
              "\n",
              "    .dataframe thead th {\n",
              "        text-align: right;\n",
              "    }\n",
              "</style>\n",
              "<table border=\"1\" class=\"dataframe\">\n",
              "  <thead>\n",
              "    <tr style=\"text-align: right;\">\n",
              "      <th></th>\n",
              "      <th>Open</th>\n",
              "      <th>High</th>\n",
              "      <th>Low</th>\n",
              "      <th>Close</th>\n",
              "      <th>Adj Close</th>\n",
              "      <th>Volume</th>\n",
              "    </tr>\n",
              "    <tr>\n",
              "      <th>Date</th>\n",
              "      <th></th>\n",
              "      <th></th>\n",
              "      <th></th>\n",
              "      <th></th>\n",
              "      <th></th>\n",
              "      <th></th>\n",
              "    </tr>\n",
              "  </thead>\n",
              "  <tbody>\n",
              "    <tr>\n",
              "      <th>2020-01-02</th>\n",
              "      <td>74.059998</td>\n",
              "      <td>75.150002</td>\n",
              "      <td>73.797501</td>\n",
              "      <td>75.087502</td>\n",
              "      <td>72.960449</td>\n",
              "      <td>135480400</td>\n",
              "    </tr>\n",
              "    <tr>\n",
              "      <th>2020-01-03</th>\n",
              "      <td>74.287498</td>\n",
              "      <td>75.144997</td>\n",
              "      <td>74.125000</td>\n",
              "      <td>74.357498</td>\n",
              "      <td>72.251144</td>\n",
              "      <td>146322800</td>\n",
              "    </tr>\n",
              "    <tr>\n",
              "      <th>2020-01-06</th>\n",
              "      <td>73.447502</td>\n",
              "      <td>74.989998</td>\n",
              "      <td>73.187500</td>\n",
              "      <td>74.949997</td>\n",
              "      <td>72.826843</td>\n",
              "      <td>118387200</td>\n",
              "    </tr>\n",
              "    <tr>\n",
              "      <th>2020-01-07</th>\n",
              "      <td>74.959999</td>\n",
              "      <td>75.224998</td>\n",
              "      <td>74.370003</td>\n",
              "      <td>74.597504</td>\n",
              "      <td>72.484352</td>\n",
              "      <td>108872000</td>\n",
              "    </tr>\n",
              "    <tr>\n",
              "      <th>2020-01-08</th>\n",
              "      <td>74.290001</td>\n",
              "      <td>76.110001</td>\n",
              "      <td>74.290001</td>\n",
              "      <td>75.797501</td>\n",
              "      <td>73.650360</td>\n",
              "      <td>132079200</td>\n",
              "    </tr>\n",
              "  </tbody>\n",
              "</table>\n",
              "</div>"
            ],
            "text/plain": [
              "                 Open       High        Low      Close  Adj Close     Volume\n",
              "Date                                                                        \n",
              "2020-01-02  74.059998  75.150002  73.797501  75.087502  72.960449  135480400\n",
              "2020-01-03  74.287498  75.144997  74.125000  74.357498  72.251144  146322800\n",
              "2020-01-06  73.447502  74.989998  73.187500  74.949997  72.826843  118387200\n",
              "2020-01-07  74.959999  75.224998  74.370003  74.597504  72.484352  108872000\n",
              "2020-01-08  74.290001  76.110001  74.290001  75.797501  73.650360  132079200"
            ]
          },
          "execution_count": 4,
          "metadata": {},
          "output_type": "execute_result"
        }
      ],
      "source": [
        "aapl_df_yf.head()"
      ]
    },
    {
      "cell_type": "markdown",
      "metadata": {
        "id": "fHZLDmnsXOK0"
      },
      "source": [
        "### Using FinRL"
      ]
    },
    {
      "cell_type": "markdown",
      "metadata": {
        "id": "VFB77ohNbXCc"
      },
      "source": [
        "In FinRL's YahooDownloader, we modified the data frame to the form that convenient for further data processing process. We use adjusted close price instead of close price, and add a column representing the day of a week (0-4 corresponding to Monday-Friday)."
      ]
    },
    {
      "cell_type": "code",
      "execution_count": 31,
      "metadata": {
        "colab": {
          "base_uri": "https://localhost:8080/"
        },
        "id": "7ufDHvt4XBWT",
        "outputId": "41603042-4f14-4814-c569-305d85fa7f9d"
      },
      "outputs": [
        {
          "name": "stderr",
          "output_type": "stream",
          "text": [
            "[*********************100%%**********************]  1 of 1 completed"
          ]
        },
        {
          "name": "stdout",
          "output_type": "stream",
          "text": [
            "Shape of DataFrame:  (20, 8)\n"
          ]
        },
        {
          "name": "stderr",
          "output_type": "stream",
          "text": [
            "\n"
          ]
        }
      ],
      "source": [
        "aapl_df_finrl = YahooDownloader(start_date = '2020-01-01',\n",
        "                                end_date = '2020-01-31',\n",
        "                                ticker_list = ['aapl']).fetch_data()"
      ]
    },
    {
      "cell_type": "code",
      "execution_count": 34,
      "metadata": {
        "colab": {
          "base_uri": "https://localhost:8080/",
          "height": 206
        },
        "id": "_TgEjXxhXtT_",
        "outputId": "a8e8a9e2-a1ea-472e-eddf-2227e6c901d8"
      },
      "outputs": [
        {
          "data": {
            "text/html": [
              "<div>\n",
              "<style scoped>\n",
              "    .dataframe tbody tr th:only-of-type {\n",
              "        vertical-align: middle;\n",
              "    }\n",
              "\n",
              "    .dataframe tbody tr th {\n",
              "        vertical-align: top;\n",
              "    }\n",
              "\n",
              "    .dataframe thead th {\n",
              "        text-align: right;\n",
              "    }\n",
              "</style>\n",
              "<table border=\"1\" class=\"dataframe\">\n",
              "  <thead>\n",
              "    <tr style=\"text-align: right;\">\n",
              "      <th></th>\n",
              "      <th>date</th>\n",
              "      <th>open</th>\n",
              "      <th>high</th>\n",
              "      <th>low</th>\n",
              "      <th>close</th>\n",
              "      <th>volume</th>\n",
              "      <th>tic</th>\n",
              "      <th>day</th>\n",
              "    </tr>\n",
              "  </thead>\n",
              "  <tbody>\n",
              "    <tr>\n",
              "      <th>0</th>\n",
              "      <td>2020-01-02</td>\n",
              "      <td>74.059998</td>\n",
              "      <td>75.150002</td>\n",
              "      <td>73.797501</td>\n",
              "      <td>72.960464</td>\n",
              "      <td>135480400</td>\n",
              "      <td>aapl</td>\n",
              "      <td>3</td>\n",
              "    </tr>\n",
              "    <tr>\n",
              "      <th>1</th>\n",
              "      <td>2020-01-03</td>\n",
              "      <td>74.287498</td>\n",
              "      <td>75.144997</td>\n",
              "      <td>74.125000</td>\n",
              "      <td>72.251137</td>\n",
              "      <td>146322800</td>\n",
              "      <td>aapl</td>\n",
              "      <td>4</td>\n",
              "    </tr>\n",
              "    <tr>\n",
              "      <th>2</th>\n",
              "      <td>2020-01-06</td>\n",
              "      <td>73.447502</td>\n",
              "      <td>74.989998</td>\n",
              "      <td>73.187500</td>\n",
              "      <td>72.826851</td>\n",
              "      <td>118387200</td>\n",
              "      <td>aapl</td>\n",
              "      <td>0</td>\n",
              "    </tr>\n",
              "    <tr>\n",
              "      <th>3</th>\n",
              "      <td>2020-01-07</td>\n",
              "      <td>74.959999</td>\n",
              "      <td>75.224998</td>\n",
              "      <td>74.370003</td>\n",
              "      <td>72.484337</td>\n",
              "      <td>108872000</td>\n",
              "      <td>aapl</td>\n",
              "      <td>1</td>\n",
              "    </tr>\n",
              "    <tr>\n",
              "      <th>4</th>\n",
              "      <td>2020-01-08</td>\n",
              "      <td>74.290001</td>\n",
              "      <td>76.110001</td>\n",
              "      <td>74.290001</td>\n",
              "      <td>73.650352</td>\n",
              "      <td>132079200</td>\n",
              "      <td>aapl</td>\n",
              "      <td>2</td>\n",
              "    </tr>\n",
              "    <tr>\n",
              "      <th>5</th>\n",
              "      <td>2020-01-09</td>\n",
              "      <td>76.809998</td>\n",
              "      <td>77.607498</td>\n",
              "      <td>76.550003</td>\n",
              "      <td>75.214737</td>\n",
              "      <td>170108400</td>\n",
              "      <td>aapl</td>\n",
              "      <td>3</td>\n",
              "    </tr>\n",
              "    <tr>\n",
              "      <th>6</th>\n",
              "      <td>2020-01-10</td>\n",
              "      <td>77.650002</td>\n",
              "      <td>78.167503</td>\n",
              "      <td>77.062500</td>\n",
              "      <td>75.384781</td>\n",
              "      <td>140644800</td>\n",
              "      <td>aapl</td>\n",
              "      <td>4</td>\n",
              "    </tr>\n",
              "    <tr>\n",
              "      <th>7</th>\n",
              "      <td>2020-01-13</td>\n",
              "      <td>77.910004</td>\n",
              "      <td>79.267502</td>\n",
              "      <td>77.787498</td>\n",
              "      <td>76.995323</td>\n",
              "      <td>121532000</td>\n",
              "      <td>aapl</td>\n",
              "      <td>0</td>\n",
              "    </tr>\n",
              "    <tr>\n",
              "      <th>8</th>\n",
              "      <td>2020-01-14</td>\n",
              "      <td>79.175003</td>\n",
              "      <td>79.392502</td>\n",
              "      <td>78.042503</td>\n",
              "      <td>75.955643</td>\n",
              "      <td>161954400</td>\n",
              "      <td>aapl</td>\n",
              "      <td>1</td>\n",
              "    </tr>\n",
              "    <tr>\n",
              "      <th>9</th>\n",
              "      <td>2020-01-15</td>\n",
              "      <td>77.962502</td>\n",
              "      <td>78.875000</td>\n",
              "      <td>77.387497</td>\n",
              "      <td>75.630135</td>\n",
              "      <td>121923600</td>\n",
              "      <td>aapl</td>\n",
              "      <td>2</td>\n",
              "    </tr>\n",
              "    <tr>\n",
              "      <th>10</th>\n",
              "      <td>2020-01-16</td>\n",
              "      <td>78.397499</td>\n",
              "      <td>78.925003</td>\n",
              "      <td>78.022499</td>\n",
              "      <td>76.577515</td>\n",
              "      <td>108829200</td>\n",
              "      <td>aapl</td>\n",
              "      <td>3</td>\n",
              "    </tr>\n",
              "    <tr>\n",
              "      <th>11</th>\n",
              "      <td>2020-01-17</td>\n",
              "      <td>79.067497</td>\n",
              "      <td>79.684998</td>\n",
              "      <td>78.750000</td>\n",
              "      <td>77.425316</td>\n",
              "      <td>137816400</td>\n",
              "      <td>aapl</td>\n",
              "      <td>4</td>\n",
              "    </tr>\n",
              "    <tr>\n",
              "      <th>12</th>\n",
              "      <td>2020-01-21</td>\n",
              "      <td>79.297501</td>\n",
              "      <td>79.754997</td>\n",
              "      <td>79.000000</td>\n",
              "      <td>76.900597</td>\n",
              "      <td>110843200</td>\n",
              "      <td>aapl</td>\n",
              "      <td>1</td>\n",
              "    </tr>\n",
              "    <tr>\n",
              "      <th>13</th>\n",
              "      <td>2020-01-22</td>\n",
              "      <td>79.644997</td>\n",
              "      <td>79.997498</td>\n",
              "      <td>79.327499</td>\n",
              "      <td>77.175087</td>\n",
              "      <td>101832400</td>\n",
              "      <td>aapl</td>\n",
              "      <td>2</td>\n",
              "    </tr>\n",
              "    <tr>\n",
              "      <th>14</th>\n",
              "      <td>2020-01-23</td>\n",
              "      <td>79.480003</td>\n",
              "      <td>79.889999</td>\n",
              "      <td>78.912498</td>\n",
              "      <td>77.546753</td>\n",
              "      <td>104472000</td>\n",
              "      <td>aapl</td>\n",
              "      <td>3</td>\n",
              "    </tr>\n",
              "    <tr>\n",
              "      <th>15</th>\n",
              "      <td>2020-01-24</td>\n",
              "      <td>80.062500</td>\n",
              "      <td>80.832497</td>\n",
              "      <td>79.379997</td>\n",
              "      <td>77.323273</td>\n",
              "      <td>146537600</td>\n",
              "      <td>aapl</td>\n",
              "      <td>4</td>\n",
              "    </tr>\n",
              "    <tr>\n",
              "      <th>16</th>\n",
              "      <td>2020-01-27</td>\n",
              "      <td>77.514999</td>\n",
              "      <td>77.942497</td>\n",
              "      <td>76.220001</td>\n",
              "      <td>75.049545</td>\n",
              "      <td>161940000</td>\n",
              "      <td>aapl</td>\n",
              "      <td>0</td>\n",
              "    </tr>\n",
              "    <tr>\n",
              "      <th>17</th>\n",
              "      <td>2020-01-28</td>\n",
              "      <td>78.150002</td>\n",
              "      <td>79.599998</td>\n",
              "      <td>78.047501</td>\n",
              "      <td>77.172653</td>\n",
              "      <td>162234000</td>\n",
              "      <td>aapl</td>\n",
              "      <td>1</td>\n",
              "    </tr>\n",
              "    <tr>\n",
              "      <th>18</th>\n",
              "      <td>2020-01-29</td>\n",
              "      <td>81.112503</td>\n",
              "      <td>81.962502</td>\n",
              "      <td>80.345001</td>\n",
              "      <td>78.788063</td>\n",
              "      <td>216229200</td>\n",
              "      <td>aapl</td>\n",
              "      <td>2</td>\n",
              "    </tr>\n",
              "    <tr>\n",
              "      <th>19</th>\n",
              "      <td>2020-01-30</td>\n",
              "      <td>80.135002</td>\n",
              "      <td>81.022499</td>\n",
              "      <td>79.687500</td>\n",
              "      <td>78.673897</td>\n",
              "      <td>126743200</td>\n",
              "      <td>aapl</td>\n",
              "      <td>3</td>\n",
              "    </tr>\n",
              "  </tbody>\n",
              "</table>\n",
              "</div>"
            ],
            "text/plain": [
              "          date       open       high        low      close     volume   tic  \\\n",
              "0   2020-01-02  74.059998  75.150002  73.797501  72.960464  135480400  aapl   \n",
              "1   2020-01-03  74.287498  75.144997  74.125000  72.251137  146322800  aapl   \n",
              "2   2020-01-06  73.447502  74.989998  73.187500  72.826851  118387200  aapl   \n",
              "3   2020-01-07  74.959999  75.224998  74.370003  72.484337  108872000  aapl   \n",
              "4   2020-01-08  74.290001  76.110001  74.290001  73.650352  132079200  aapl   \n",
              "5   2020-01-09  76.809998  77.607498  76.550003  75.214737  170108400  aapl   \n",
              "6   2020-01-10  77.650002  78.167503  77.062500  75.384781  140644800  aapl   \n",
              "7   2020-01-13  77.910004  79.267502  77.787498  76.995323  121532000  aapl   \n",
              "8   2020-01-14  79.175003  79.392502  78.042503  75.955643  161954400  aapl   \n",
              "9   2020-01-15  77.962502  78.875000  77.387497  75.630135  121923600  aapl   \n",
              "10  2020-01-16  78.397499  78.925003  78.022499  76.577515  108829200  aapl   \n",
              "11  2020-01-17  79.067497  79.684998  78.750000  77.425316  137816400  aapl   \n",
              "12  2020-01-21  79.297501  79.754997  79.000000  76.900597  110843200  aapl   \n",
              "13  2020-01-22  79.644997  79.997498  79.327499  77.175087  101832400  aapl   \n",
              "14  2020-01-23  79.480003  79.889999  78.912498  77.546753  104472000  aapl   \n",
              "15  2020-01-24  80.062500  80.832497  79.379997  77.323273  146537600  aapl   \n",
              "16  2020-01-27  77.514999  77.942497  76.220001  75.049545  161940000  aapl   \n",
              "17  2020-01-28  78.150002  79.599998  78.047501  77.172653  162234000  aapl   \n",
              "18  2020-01-29  81.112503  81.962502  80.345001  78.788063  216229200  aapl   \n",
              "19  2020-01-30  80.135002  81.022499  79.687500  78.673897  126743200  aapl   \n",
              "\n",
              "    day  \n",
              "0     3  \n",
              "1     4  \n",
              "2     0  \n",
              "3     1  \n",
              "4     2  \n",
              "5     3  \n",
              "6     4  \n",
              "7     0  \n",
              "8     1  \n",
              "9     2  \n",
              "10    3  \n",
              "11    4  \n",
              "12    1  \n",
              "13    2  \n",
              "14    3  \n",
              "15    4  \n",
              "16    0  \n",
              "17    1  \n",
              "18    2  \n",
              "19    3  "
            ]
          },
          "execution_count": 34,
          "metadata": {},
          "output_type": "execute_result"
        }
      ],
      "source": [
        "aapl_df_finrl[:20]"
      ]
    },
    {
      "cell_type": "markdown",
      "metadata": {
        "id": "9kcOE5nbic6R"
      },
      "source": [
        "## Data for the chosen tickers"
      ]
    },
    {
      "cell_type": "code",
      "execution_count": 7,
      "metadata": {
        "colab": {
          "base_uri": "https://localhost:8080/"
        },
        "id": "FKBjtAo2uIq5",
        "outputId": "927f682a-9cc3-4c11-c3f1-094ae811af6b"
      },
      "outputs": [
        {
          "data": {
            "text/plain": [
              "['AXP',\n",
              " 'AMGN',\n",
              " 'AAPL',\n",
              " 'BA',\n",
              " 'CAT',\n",
              " 'CSCO',\n",
              " 'CVX',\n",
              " 'GS',\n",
              " 'HD',\n",
              " 'HON',\n",
              " 'IBM',\n",
              " 'INTC',\n",
              " 'JNJ',\n",
              " 'KO',\n",
              " 'JPM',\n",
              " 'MCD',\n",
              " 'MMM',\n",
              " 'MRK',\n",
              " 'MSFT',\n",
              " 'NKE',\n",
              " 'PG',\n",
              " 'TRV',\n",
              " 'UNH',\n",
              " 'CRM',\n",
              " 'VZ',\n",
              " 'V',\n",
              " 'WBA',\n",
              " 'WMT',\n",
              " 'DIS',\n",
              " 'DOW']"
            ]
          },
          "execution_count": 7,
          "metadata": {},
          "output_type": "execute_result"
        }
      ],
      "source": [
        "config_tickers.DOW_30_TICKER"
      ]
    },
    {
      "cell_type": "code",
      "execution_count": 1,
      "metadata": {
        "id": "9xTPG4Fhc-zL"
      },
      "outputs": [],
      "source": []
    },
    {
      "cell_type": "markdown",
      "metadata": {},
      "source": [
        "# Original data"
      ]
    },
    {
      "cell_type": "code",
      "execution_count": 35,
      "metadata": {
        "colab": {
          "base_uri": "https://localhost:8080/"
        },
        "id": "9LblMI8CO0F3",
        "outputId": "7be76385-50eb-4e8d-f2e5-1795d77b70ba"
      },
      "outputs": [
        {
          "name": "stderr",
          "output_type": "stream",
          "text": [
            "[*********************100%%**********************]  1 of 1 completed"
          ]
        },
        {
          "name": "stdout",
          "output_type": "stream",
          "text": [
            "Shape of DataFrame:  (203, 8)\n"
          ]
        },
        {
          "name": "stderr",
          "output_type": "stream",
          "text": [
            "\n"
          ]
        }
      ],
      "source": [
        "df_raw = YahooDownloader(start_date = TRAIN_START_DATE,\n",
        "                     end_date = TRADE_END_DATE,\n",
        "                     ticker_list = ['VIC.VN']).fetch_data()"
      ]
    },
    {
      "cell_type": "code",
      "execution_count": 36,
      "metadata": {
        "colab": {
          "base_uri": "https://localhost:8080/",
          "height": 206
        },
        "id": "RD9cjHzt8X3A",
        "outputId": "051acda5-c8fd-440a-a5af-6be04cfdc018"
      },
      "outputs": [
        {
          "data": {
            "text/html": [
              "<div>\n",
              "<style scoped>\n",
              "    .dataframe tbody tr th:only-of-type {\n",
              "        vertical-align: middle;\n",
              "    }\n",
              "\n",
              "    .dataframe tbody tr th {\n",
              "        vertical-align: top;\n",
              "    }\n",
              "\n",
              "    .dataframe thead th {\n",
              "        text-align: right;\n",
              "    }\n",
              "</style>\n",
              "<table border=\"1\" class=\"dataframe\">\n",
              "  <thead>\n",
              "    <tr style=\"text-align: right;\">\n",
              "      <th></th>\n",
              "      <th>date</th>\n",
              "      <th>open</th>\n",
              "      <th>high</th>\n",
              "      <th>low</th>\n",
              "      <th>close</th>\n",
              "      <th>volume</th>\n",
              "      <th>tic</th>\n",
              "      <th>day</th>\n",
              "    </tr>\n",
              "  </thead>\n",
              "  <tbody>\n",
              "    <tr>\n",
              "      <th>0</th>\n",
              "      <td>2023-07-17</td>\n",
              "      <td>51600.0</td>\n",
              "      <td>53100.0</td>\n",
              "      <td>51400.0</td>\n",
              "      <td>52900.0</td>\n",
              "      <td>12105500</td>\n",
              "      <td>VIC.VN</td>\n",
              "      <td>0</td>\n",
              "    </tr>\n",
              "    <tr>\n",
              "      <th>1</th>\n",
              "      <td>2023-07-19</td>\n",
              "      <td>52900.0</td>\n",
              "      <td>52900.0</td>\n",
              "      <td>52100.0</td>\n",
              "      <td>52100.0</td>\n",
              "      <td>1816000</td>\n",
              "      <td>VIC.VN</td>\n",
              "      <td>2</td>\n",
              "    </tr>\n",
              "    <tr>\n",
              "      <th>2</th>\n",
              "      <td>2023-07-20</td>\n",
              "      <td>52100.0</td>\n",
              "      <td>52600.0</td>\n",
              "      <td>51600.0</td>\n",
              "      <td>52000.0</td>\n",
              "      <td>1893807</td>\n",
              "      <td>VIC.VN</td>\n",
              "      <td>3</td>\n",
              "    </tr>\n",
              "    <tr>\n",
              "      <th>3</th>\n",
              "      <td>2023-07-21</td>\n",
              "      <td>52000.0</td>\n",
              "      <td>52300.0</td>\n",
              "      <td>51600.0</td>\n",
              "      <td>52100.0</td>\n",
              "      <td>2324811</td>\n",
              "      <td>VIC.VN</td>\n",
              "      <td>4</td>\n",
              "    </tr>\n",
              "    <tr>\n",
              "      <th>4</th>\n",
              "      <td>2023-07-24</td>\n",
              "      <td>52200.0</td>\n",
              "      <td>52600.0</td>\n",
              "      <td>51800.0</td>\n",
              "      <td>52000.0</td>\n",
              "      <td>2611616</td>\n",
              "      <td>VIC.VN</td>\n",
              "      <td>0</td>\n",
              "    </tr>\n",
              "    <tr>\n",
              "      <th>5</th>\n",
              "      <td>2023-07-26</td>\n",
              "      <td>51400.0</td>\n",
              "      <td>51900.0</td>\n",
              "      <td>51000.0</td>\n",
              "      <td>51000.0</td>\n",
              "      <td>4119713</td>\n",
              "      <td>VIC.VN</td>\n",
              "      <td>2</td>\n",
              "    </tr>\n",
              "    <tr>\n",
              "      <th>6</th>\n",
              "      <td>2023-07-28</td>\n",
              "      <td>51100.0</td>\n",
              "      <td>51600.0</td>\n",
              "      <td>50900.0</td>\n",
              "      <td>51500.0</td>\n",
              "      <td>3550220</td>\n",
              "      <td>VIC.VN</td>\n",
              "      <td>4</td>\n",
              "    </tr>\n",
              "    <tr>\n",
              "      <th>7</th>\n",
              "      <td>2023-08-03</td>\n",
              "      <td>58300.0</td>\n",
              "      <td>59500.0</td>\n",
              "      <td>58000.0</td>\n",
              "      <td>58200.0</td>\n",
              "      <td>7522816</td>\n",
              "      <td>VIC.VN</td>\n",
              "      <td>3</td>\n",
              "    </tr>\n",
              "    <tr>\n",
              "      <th>8</th>\n",
              "      <td>2023-08-04</td>\n",
              "      <td>59000.0</td>\n",
              "      <td>62200.0</td>\n",
              "      <td>59000.0</td>\n",
              "      <td>62200.0</td>\n",
              "      <td>21210810</td>\n",
              "      <td>VIC.VN</td>\n",
              "      <td>4</td>\n",
              "    </tr>\n",
              "    <tr>\n",
              "      <th>9</th>\n",
              "      <td>2023-08-07</td>\n",
              "      <td>63500.0</td>\n",
              "      <td>64300.0</td>\n",
              "      <td>62400.0</td>\n",
              "      <td>63900.0</td>\n",
              "      <td>8530327</td>\n",
              "      <td>VIC.VN</td>\n",
              "      <td>0</td>\n",
              "    </tr>\n",
              "    <tr>\n",
              "      <th>10</th>\n",
              "      <td>2023-08-08</td>\n",
              "      <td>64000.0</td>\n",
              "      <td>67500.0</td>\n",
              "      <td>63600.0</td>\n",
              "      <td>67000.0</td>\n",
              "      <td>11056430</td>\n",
              "      <td>VIC.VN</td>\n",
              "      <td>1</td>\n",
              "    </tr>\n",
              "    <tr>\n",
              "      <th>11</th>\n",
              "      <td>2023-08-09</td>\n",
              "      <td>67000.0</td>\n",
              "      <td>67800.0</td>\n",
              "      <td>65700.0</td>\n",
              "      <td>65800.0</td>\n",
              "      <td>10268420</td>\n",
              "      <td>VIC.VN</td>\n",
              "      <td>2</td>\n",
              "    </tr>\n",
              "    <tr>\n",
              "      <th>12</th>\n",
              "      <td>2023-08-10</td>\n",
              "      <td>66300.0</td>\n",
              "      <td>68400.0</td>\n",
              "      <td>66100.0</td>\n",
              "      <td>67900.0</td>\n",
              "      <td>8161614</td>\n",
              "      <td>VIC.VN</td>\n",
              "      <td>3</td>\n",
              "    </tr>\n",
              "    <tr>\n",
              "      <th>13</th>\n",
              "      <td>2023-08-11</td>\n",
              "      <td>72600.0</td>\n",
              "      <td>72600.0</td>\n",
              "      <td>72100.0</td>\n",
              "      <td>72600.0</td>\n",
              "      <td>23093120</td>\n",
              "      <td>VIC.VN</td>\n",
              "      <td>4</td>\n",
              "    </tr>\n",
              "    <tr>\n",
              "      <th>14</th>\n",
              "      <td>2023-08-14</td>\n",
              "      <td>74900.0</td>\n",
              "      <td>75400.0</td>\n",
              "      <td>71500.0</td>\n",
              "      <td>73300.0</td>\n",
              "      <td>12704020</td>\n",
              "      <td>VIC.VN</td>\n",
              "      <td>0</td>\n",
              "    </tr>\n",
              "    <tr>\n",
              "      <th>15</th>\n",
              "      <td>2023-08-15</td>\n",
              "      <td>73000.0</td>\n",
              "      <td>73300.0</td>\n",
              "      <td>70700.0</td>\n",
              "      <td>70700.0</td>\n",
              "      <td>17485310</td>\n",
              "      <td>VIC.VN</td>\n",
              "      <td>1</td>\n",
              "    </tr>\n",
              "    <tr>\n",
              "      <th>16</th>\n",
              "      <td>2023-08-16</td>\n",
              "      <td>75600.0</td>\n",
              "      <td>75600.0</td>\n",
              "      <td>75400.0</td>\n",
              "      <td>75600.0</td>\n",
              "      <td>19714910</td>\n",
              "      <td>VIC.VN</td>\n",
              "      <td>2</td>\n",
              "    </tr>\n",
              "    <tr>\n",
              "      <th>17</th>\n",
              "      <td>2023-08-17</td>\n",
              "      <td>75600.0</td>\n",
              "      <td>76600.0</td>\n",
              "      <td>71900.0</td>\n",
              "      <td>71900.0</td>\n",
              "      <td>25732610</td>\n",
              "      <td>VIC.VN</td>\n",
              "      <td>3</td>\n",
              "    </tr>\n",
              "    <tr>\n",
              "      <th>18</th>\n",
              "      <td>2023-08-18</td>\n",
              "      <td>69100.0</td>\n",
              "      <td>70000.0</td>\n",
              "      <td>66900.0</td>\n",
              "      <td>66900.0</td>\n",
              "      <td>27733400</td>\n",
              "      <td>VIC.VN</td>\n",
              "      <td>4</td>\n",
              "    </tr>\n",
              "    <tr>\n",
              "      <th>19</th>\n",
              "      <td>2023-08-21</td>\n",
              "      <td>66000.0</td>\n",
              "      <td>66100.0</td>\n",
              "      <td>63300.0</td>\n",
              "      <td>65800.0</td>\n",
              "      <td>23678720</td>\n",
              "      <td>VIC.VN</td>\n",
              "      <td>0</td>\n",
              "    </tr>\n",
              "  </tbody>\n",
              "</table>\n",
              "</div>"
            ],
            "text/plain": [
              "          date     open     high      low    close    volume     tic  day\n",
              "0   2023-07-17  51600.0  53100.0  51400.0  52900.0  12105500  VIC.VN    0\n",
              "1   2023-07-19  52900.0  52900.0  52100.0  52100.0   1816000  VIC.VN    2\n",
              "2   2023-07-20  52100.0  52600.0  51600.0  52000.0   1893807  VIC.VN    3\n",
              "3   2023-07-21  52000.0  52300.0  51600.0  52100.0   2324811  VIC.VN    4\n",
              "4   2023-07-24  52200.0  52600.0  51800.0  52000.0   2611616  VIC.VN    0\n",
              "5   2023-07-26  51400.0  51900.0  51000.0  51000.0   4119713  VIC.VN    2\n",
              "6   2023-07-28  51100.0  51600.0  50900.0  51500.0   3550220  VIC.VN    4\n",
              "7   2023-08-03  58300.0  59500.0  58000.0  58200.0   7522816  VIC.VN    3\n",
              "8   2023-08-04  59000.0  62200.0  59000.0  62200.0  21210810  VIC.VN    4\n",
              "9   2023-08-07  63500.0  64300.0  62400.0  63900.0   8530327  VIC.VN    0\n",
              "10  2023-08-08  64000.0  67500.0  63600.0  67000.0  11056430  VIC.VN    1\n",
              "11  2023-08-09  67000.0  67800.0  65700.0  65800.0  10268420  VIC.VN    2\n",
              "12  2023-08-10  66300.0  68400.0  66100.0  67900.0   8161614  VIC.VN    3\n",
              "13  2023-08-11  72600.0  72600.0  72100.0  72600.0  23093120  VIC.VN    4\n",
              "14  2023-08-14  74900.0  75400.0  71500.0  73300.0  12704020  VIC.VN    0\n",
              "15  2023-08-15  73000.0  73300.0  70700.0  70700.0  17485310  VIC.VN    1\n",
              "16  2023-08-16  75600.0  75600.0  75400.0  75600.0  19714910  VIC.VN    2\n",
              "17  2023-08-17  75600.0  76600.0  71900.0  71900.0  25732610  VIC.VN    3\n",
              "18  2023-08-18  69100.0  70000.0  66900.0  66900.0  27733400  VIC.VN    4\n",
              "19  2023-08-21  66000.0  66100.0  63300.0  65800.0  23678720  VIC.VN    0"
            ]
          },
          "execution_count": 36,
          "metadata": {},
          "output_type": "execute_result"
        }
      ],
      "source": [
        "df_raw[:20]"
      ]
    },
    {
      "cell_type": "markdown",
      "metadata": {},
      "source": [
        "# OUR CLASS"
      ]
    },
    {
      "cell_type": "code",
      "execution_count": 10,
      "metadata": {},
      "outputs": [],
      "source": [
        "TRAIN_START_DATE = '2015-01-05'\n",
        "TRAIN_END_DATE = '2022-07-01'\n",
        "TRADE_START_DATE = '2022-07-01'\n",
        "TRADE_END_DATE = '2024-05-23'"
      ]
    },
    {
      "cell_type": "code",
      "execution_count": 11,
      "metadata": {},
      "outputs": [],
      "source": [
        "class OurDatasetCollector:\n",
        "    def __init__(self):\n",
        "        pass\n",
        "\n",
        "    def check_dataset(self, df):\n",
        "        duplicates = df.duplicated().sum()\n",
        "        print(f\"Number of duplicated rows: {duplicates}\")\n",
        "\n",
        "        missing_values = df.isnull().sum().sum()\n",
        "        print(f\"Number of missing values: {missing_values}\")\n",
        "\n",
        "        day_counts = df['day'].value_counts().sort_index()\n",
        "        print(\"Day of the week counts:\")\n",
        "        for day, count in day_counts.items():\n",
        "            print(f\"{day}: {count}\")\n",
        "\n",
        "    def csv_to_yf(self, csv_path, stock_ticker):\n",
        "\n",
        "        df = pd.read_csv(csv_path)\n",
        "        \n",
        "        df['date'] = pd.to_datetime(df['Date'], format='%m/%d/%Y')\n",
        "        df['open'] = df['Open'].str.replace(',', '').astype(float)\n",
        "        df['high'] = df['High'].str.replace(',', '').astype(float)\n",
        "        df['low'] = df['Low'].str.replace(',', '').astype(float)\n",
        "        df['close'] = df['Price'].str.replace(',', '').astype(float)    \n",
        "        df['volume'] = df['Vol.'].apply(lambda x: float(x.replace('M', '').replace('K', '')) * (1e6 if 'M' in x else 1e3 if 'K' in x else 1))\n",
        "        df['tic'] = stock_ticker\n",
        "        df['day'] = df['date'].dt.dayofweek\n",
        "        df['date'] = df['date'].astype(str)\n",
        "        \n",
        "        drop_col = ['Date',\t'Price', 'Open', 'High', 'Low',\t'Vol.','Change %']\n",
        "        for col in drop_col:\n",
        "            df.drop(columns=col, inplace=True)\n",
        "        return df\n",
        "    \n",
        "    def Importer(self, csv_path, tik):\n",
        "        df = self.csv_to_yf(csv_path, tik)\n",
        "        self.check_dataset(df)\n",
        "        return df\n"
      ]
    },
    {
      "cell_type": "code",
      "execution_count": 12,
      "metadata": {},
      "outputs": [
        {
          "name": "stdout",
          "output_type": "stream",
          "text": [
            "Number of duplicated rows: 0\n",
            "Number of missing values: 0\n",
            "Day of the week counts:\n",
            "0: 458\n",
            "1: 470\n",
            "2: 470\n",
            "3: 473\n",
            "4: 470\n",
            "date       object\n",
            "open      float64\n",
            "high      float64\n",
            "low       float64\n",
            "close     float64\n",
            "volume    float64\n",
            "tic        object\n",
            "day         int32\n",
            "dtype: object\n"
          ]
        }
      ],
      "source": [
        "collector = OurDatasetCollector()\n",
        "vic_df = collector.Importer('VIC Historical Data.csv', 'vic.vn')\n",
        "print(vic_df.dtypes)"
      ]
    },
    {
      "cell_type": "markdown",
      "metadata": {
        "id": "uqC6c40Zh1iH"
      },
      "source": [
        "# Part 3: Preprocess Data\n",
        "We need to check for missing data and do feature engineering to convert the data point into a state.\n",
        "* **Adding technical indicators**. In practical trading, various information needs to be taken into account, such as historical prices, current holding shares, technical indicators, etc. Here, we demonstrate two trend-following technical indicators: MACD and RSI.\n",
        "* **Adding turbulence index**. Risk-aversion reflects whether an investor prefers to protect the capital. It also influences one's trading strategy when facing different market volatility level. To control the risk in a worst-case scenario, such as financial crisis of 2007–2008, FinRL employs the turbulence index that measures extreme fluctuation of asset price."
      ]
    },
    {
      "cell_type": "markdown",
      "metadata": {
        "id": "1lQxLyWpdbAd"
      },
      "source": [
        "Hear let's take **MACD** as an example. Moving average convergence/divergence (MACD) is one of the most commonly used indicator showing bull and bear market. Its calculation is based on EMA (Exponential Moving Average indicator, measuring trend direction over a period of time.)"
      ]
    },
    {
      "cell_type": "code",
      "execution_count": 16,
      "metadata": {
        "colab": {
          "base_uri": "https://localhost:8080/"
        },
        "id": "PmKP-1ii3RLS",
        "outputId": "d514cf1a-8609-402e-ad58-df5f9100ec85"
      },
      "outputs": [
        {
          "name": "stderr",
          "output_type": "stream",
          "text": [
            "[*********************100%%**********************]  1 of 1 completed"
          ]
        },
        {
          "name": "stdout",
          "output_type": "stream",
          "text": [
            "Successfully added technical indicators\n",
            "Shape of DataFrame:  (2362, 8)\n",
            "date     object\n",
            "vix     float64\n",
            "dtype: object\n",
            "Successfully added vix\n"
          ]
        },
        {
          "name": "stderr",
          "output_type": "stream",
          "text": [
            "\n"
          ]
        },
        {
          "name": "stdout",
          "output_type": "stream",
          "text": [
            "Successfully added turbulence index\n"
          ]
        }
      ],
      "source": [
        "fe = FeatureEngineer(use_technical_indicator=True,\n",
        "                     tech_indicator_list = INDICATORS,\n",
        "                     use_vix=True,\n",
        "                     use_turbulence=True,\n",
        "                     user_defined_feature = False)\n",
        "\n",
        "processed = fe.preprocess_data(vic_df)"
      ]
    },
    {
      "cell_type": "code",
      "execution_count": 17,
      "metadata": {
        "id": "Kixon2tR3RLT"
      },
      "outputs": [],
      "source": [
        "list_ticker = processed[\"tic\"].unique().tolist()\n",
        "list_date = list(pd.date_range(processed['date'].min(),processed['date'].max()).astype(str))\n",
        "combination = list(itertools.product(list_date,list_ticker))\n",
        "\n",
        "processed_full = pd.DataFrame(combination,columns=[\"date\",\"tic\"]).merge(processed,on=[\"date\",\"tic\"],how=\"left\")\n",
        "processed_full = processed_full[processed_full['date'].isin(processed['date'])]\n",
        "processed_full = processed_full.sort_values(['date','tic'])\n",
        "\n",
        "processed_full = processed_full.fillna(0)"
      ]
    },
    {
      "cell_type": "code",
      "execution_count": 19,
      "metadata": {
        "colab": {
          "base_uri": "https://localhost:8080/",
          "height": 357
        },
        "id": "HwKJNWJSabNK",
        "outputId": "16c8080e-91b0-4e8d-9a09-44939ac69801"
      },
      "outputs": [
        {
          "data": {
            "text/html": [
              "<div>\n",
              "<style scoped>\n",
              "    .dataframe tbody tr th:only-of-type {\n",
              "        vertical-align: middle;\n",
              "    }\n",
              "\n",
              "    .dataframe tbody tr th {\n",
              "        vertical-align: top;\n",
              "    }\n",
              "\n",
              "    .dataframe thead th {\n",
              "        text-align: right;\n",
              "    }\n",
              "</style>\n",
              "<table border=\"1\" class=\"dataframe\">\n",
              "  <thead>\n",
              "    <tr style=\"text-align: right;\">\n",
              "      <th></th>\n",
              "      <th>date</th>\n",
              "      <th>tic</th>\n",
              "      <th>open</th>\n",
              "      <th>high</th>\n",
              "      <th>low</th>\n",
              "      <th>close</th>\n",
              "      <th>volume</th>\n",
              "      <th>day</th>\n",
              "      <th>macd</th>\n",
              "      <th>boll_ub</th>\n",
              "      <th>boll_lb</th>\n",
              "      <th>rsi_30</th>\n",
              "      <th>cci_30</th>\n",
              "      <th>dx_30</th>\n",
              "      <th>close_30_sma</th>\n",
              "      <th>close_60_sma</th>\n",
              "      <th>vix</th>\n",
              "      <th>turbulence</th>\n",
              "    </tr>\n",
              "  </thead>\n",
              "  <tbody>\n",
              "    <tr>\n",
              "      <th>3419</th>\n",
              "      <td>2024-05-16</td>\n",
              "      <td>vic.vn</td>\n",
              "      <td>46150.0</td>\n",
              "      <td>48200.0</td>\n",
              "      <td>45600.0</td>\n",
              "      <td>46750.0</td>\n",
              "      <td>2780000.0</td>\n",
              "      <td>3.0</td>\n",
              "      <td>99.898776</td>\n",
              "      <td>48153.826791</td>\n",
              "      <td>40866.173209</td>\n",
              "      <td>53.841753</td>\n",
              "      <td>53.353854</td>\n",
              "      <td>4.943208</td>\n",
              "      <td>45563.333333</td>\n",
              "      <td>45793.333333</td>\n",
              "      <td>12.42</td>\n",
              "      <td>0.141965</td>\n",
              "    </tr>\n",
              "    <tr>\n",
              "      <th>3420</th>\n",
              "      <td>2024-05-17</td>\n",
              "      <td>vic.vn</td>\n",
              "      <td>46750.0</td>\n",
              "      <td>47000.0</td>\n",
              "      <td>46250.0</td>\n",
              "      <td>46850.0</td>\n",
              "      <td>2170000.0</td>\n",
              "      <td>4.0</td>\n",
              "      <td>206.776164</td>\n",
              "      <td>48125.304235</td>\n",
              "      <td>40879.695765</td>\n",
              "      <td>54.086923</td>\n",
              "      <td>49.514837</td>\n",
              "      <td>4.943208</td>\n",
              "      <td>45530.000000</td>\n",
              "      <td>45790.833333</td>\n",
              "      <td>11.99</td>\n",
              "      <td>0.008705</td>\n",
              "    </tr>\n",
              "    <tr>\n",
              "      <th>3423</th>\n",
              "      <td>2024-05-20</td>\n",
              "      <td>vic.vn</td>\n",
              "      <td>47000.0</td>\n",
              "      <td>48900.0</td>\n",
              "      <td>45900.0</td>\n",
              "      <td>46700.0</td>\n",
              "      <td>3220000.0</td>\n",
              "      <td>0.0</td>\n",
              "      <td>276.189775</td>\n",
              "      <td>48175.695557</td>\n",
              "      <td>40859.304443</td>\n",
              "      <td>53.644783</td>\n",
              "      <td>68.158565</td>\n",
              "      <td>2.641157</td>\n",
              "      <td>45510.000000</td>\n",
              "      <td>45760.833333</td>\n",
              "      <td>12.15</td>\n",
              "      <td>0.017202</td>\n",
              "    </tr>\n",
              "    <tr>\n",
              "      <th>3424</th>\n",
              "      <td>2024-05-21</td>\n",
              "      <td>vic.vn</td>\n",
              "      <td>43450.0</td>\n",
              "      <td>47700.0</td>\n",
              "      <td>43450.0</td>\n",
              "      <td>46450.0</td>\n",
              "      <td>3340000.0</td>\n",
              "      <td>1.0</td>\n",
              "      <td>307.483176</td>\n",
              "      <td>48340.937021</td>\n",
              "      <td>40834.062979</td>\n",
              "      <td>52.899214</td>\n",
              "      <td>19.399960</td>\n",
              "      <td>6.383923</td>\n",
              "      <td>45466.666667</td>\n",
              "      <td>45747.500000</td>\n",
              "      <td>11.86</td>\n",
              "      <td>0.051082</td>\n",
              "    </tr>\n",
              "    <tr>\n",
              "      <th>3425</th>\n",
              "      <td>2024-05-22</td>\n",
              "      <td>vic.vn</td>\n",
              "      <td>43200.0</td>\n",
              "      <td>47000.0</td>\n",
              "      <td>43200.0</td>\n",
              "      <td>47000.0</td>\n",
              "      <td>3150000.0</td>\n",
              "      <td>2.0</td>\n",
              "      <td>372.371360</td>\n",
              "      <td>48586.148463</td>\n",
              "      <td>41028.851537</td>\n",
              "      <td>54.343358</td>\n",
              "      <td>16.991240</td>\n",
              "      <td>7.244847</td>\n",
              "      <td>45438.333333</td>\n",
              "      <td>45737.500000</td>\n",
              "      <td>12.29</td>\n",
              "      <td>0.263863</td>\n",
              "    </tr>\n",
              "  </tbody>\n",
              "</table>\n",
              "</div>"
            ],
            "text/plain": [
              "            date     tic     open     high      low    close     volume  day  \\\n",
              "3419  2024-05-16  vic.vn  46150.0  48200.0  45600.0  46750.0  2780000.0  3.0   \n",
              "3420  2024-05-17  vic.vn  46750.0  47000.0  46250.0  46850.0  2170000.0  4.0   \n",
              "3423  2024-05-20  vic.vn  47000.0  48900.0  45900.0  46700.0  3220000.0  0.0   \n",
              "3424  2024-05-21  vic.vn  43450.0  47700.0  43450.0  46450.0  3340000.0  1.0   \n",
              "3425  2024-05-22  vic.vn  43200.0  47000.0  43200.0  47000.0  3150000.0  2.0   \n",
              "\n",
              "            macd       boll_ub       boll_lb     rsi_30     cci_30     dx_30  \\\n",
              "3419   99.898776  48153.826791  40866.173209  53.841753  53.353854  4.943208   \n",
              "3420  206.776164  48125.304235  40879.695765  54.086923  49.514837  4.943208   \n",
              "3423  276.189775  48175.695557  40859.304443  53.644783  68.158565  2.641157   \n",
              "3424  307.483176  48340.937021  40834.062979  52.899214  19.399960  6.383923   \n",
              "3425  372.371360  48586.148463  41028.851537  54.343358  16.991240  7.244847   \n",
              "\n",
              "      close_30_sma  close_60_sma    vix  turbulence  \n",
              "3419  45563.333333  45793.333333  12.42    0.141965  \n",
              "3420  45530.000000  45790.833333  11.99    0.008705  \n",
              "3423  45510.000000  45760.833333  12.15    0.017202  \n",
              "3424  45466.666667  45747.500000  11.86    0.051082  \n",
              "3425  45438.333333  45737.500000  12.29    0.263863  "
            ]
          },
          "execution_count": 19,
          "metadata": {},
          "output_type": "execute_result"
        }
      ],
      "source": [
        "processed_full.tail()"
      ]
    },
    {
      "cell_type": "markdown",
      "metadata": {
        "id": "ydLNxwdPIJhW"
      },
      "source": [
        "# Part 4: Save the Data"
      ]
    },
    {
      "cell_type": "markdown",
      "metadata": {
        "id": "VbMDnfukILc_"
      },
      "source": [
        "### Split the data for training and trading"
      ]
    },
    {
      "cell_type": "code",
      "execution_count": 20,
      "metadata": {
        "colab": {
          "base_uri": "https://localhost:8080/"
        },
        "id": "iEiXDdUhZP7R",
        "outputId": "554b1c09-6d6f-48fb-c724-351b40a2ddaf"
      },
      "outputs": [
        {
          "name": "stdout",
          "output_type": "stream",
          "text": [
            "1813\n",
            "456\n"
          ]
        }
      ],
      "source": [
        "train = data_split(processed_full, TRAIN_START_DATE,TRAIN_END_DATE)\n",
        "trade = data_split(processed_full, TRADE_START_DATE,TRADE_END_DATE)\n",
        "print(len(train))\n",
        "print(len(trade))"
      ]
    },
    {
      "cell_type": "markdown",
      "metadata": {
        "id": "DflbzEV8IRhF"
      },
      "source": [
        "### Save data to csv file"
      ]
    },
    {
      "cell_type": "markdown",
      "metadata": {
        "id": "Tud3IZDzIUpd"
      },
      "source": [
        "For Colab users, you can open the virtual directory in colab and manually download the files.\n",
        "\n",
        "For users running on your local environment, the csv files should be at the same directory of this notebook."
      ]
    },
    {
      "cell_type": "code",
      "execution_count": 21,
      "metadata": {
        "id": "j2c12CpfHEjE"
      },
      "outputs": [],
      "source": [
        "train.to_csv('train_data.csv')\n",
        "trade.to_csv('trade_data.csv')"
      ]
    },
    {
      "cell_type": "code",
      "execution_count": null,
      "metadata": {},
      "outputs": [],
      "source": []
    }
  ],
  "metadata": {
    "colab": {
      "provenance": []
    },
    "kernelspec": {
      "display_name": "Python 3",
      "name": "python3"
    },
    "language_info": {
      "codemirror_mode": {
        "name": "ipython",
        "version": 3
      },
      "file_extension": ".py",
      "mimetype": "text/x-python",
      "name": "python",
      "nbconvert_exporter": "python",
      "pygments_lexer": "ipython3",
      "version": "3.10.13"
    }
  },
  "nbformat": 4,
  "nbformat_minor": 0
}
